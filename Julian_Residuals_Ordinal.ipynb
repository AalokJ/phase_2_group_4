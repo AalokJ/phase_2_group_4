{
 "cells": [
  {
   "cell_type": "code",
   "execution_count": 1,
   "metadata": {},
   "outputs": [],
   "source": [
    "#Importing modules, tools, etc.\n",
    "import pandas as pd\n",
    "import numpy as np\n",
    "import matplotlib.pyplot as plt\n",
    "import seaborn as sns\n",
    "import scipy.stats as stats\n",
    "import statsmodels as sm\n",
    "from statsmodels.formula.api import ols\n",
    "from sklearn.preprocessing import OrdinalEncoder\n",
    "from sklearn.preprocessing import OneHotEncoder\n",
    "from statsmodels.graphics import regressionplots\n",
    "\n",
    "#importing main dataframe as df\n",
    "df = pd.read_csv('data/kc_house_data.csv')"
   ]
  },
  {
   "cell_type": "markdown",
   "metadata": {},
   "source": [
    "### Data Cleaning"
   ]
  },
  {
   "cell_type": "code",
   "execution_count": 2,
   "metadata": {
    "scrolled": true
   },
   "outputs": [],
   "source": [
    "#Converting grade column to an int value\n",
    "\n",
    "#Create a dummy list\n",
    "grade_num = []\n",
    "\n",
    "#Go through each row, grabbing the first index off the string, conver to int\n",
    "for index, row in df.iterrows():\n",
    "    grade_num.append(int((str(row['grade'])[0:2])))\n",
    "\n",
    "#drop the old column and add the new\n",
    "df['grade_num'] = grade_num\n",
    "df.drop('grade', axis = 1);"
   ]
  },
  {
   "cell_type": "markdown",
   "metadata": {},
   "source": [
    "Converting the grade to a numeric value.  For the sake of consistency, it was descided to keep the scale provided by the city, however, we will later process this data into categorical data."
   ]
  },
  {
   "cell_type": "code",
   "execution_count": 3,
   "metadata": {},
   "outputs": [],
   "source": [
    "# Turning NaNs in the waterfront data into NO's, then converting waterfront to binary.\n",
    "# 0 is a waterfront no, 1 is a waterfront yes\n",
    "#\n",
    "\n",
    "df.waterfront.fillna(value='NO', inplace = True)\n",
    "df.waterfront.replace( to_replace = ['NO','YES'], value =  [0,1], inplace = True)"
   ]
  },
  {
   "cell_type": "markdown",
   "metadata": {},
   "source": [
    "A quick check on a random sample of the NaN's within the waterfront column via the lat/long provided showed that these properties were not on the waterfront. It was decided that we'd fill in the Nan's as nos."
   ]
  },
  {
   "cell_type": "code",
   "execution_count": 4,
   "metadata": {
    "scrolled": true
   },
   "outputs": [
    {
     "name": "stdout",
     "output_type": "stream",
     "text": [
      "12764    13540\n",
      "7245     12050\n",
      "3910     10040\n",
      "9245      9890\n",
      "8085      9640\n",
      "         ...  \n",
      "11488      420\n",
      "8614       410\n",
      "21316      390\n",
      "860        380\n",
      "15367      370\n",
      "Name: sqft_living, Length: 21597, dtype: int64\n",
      "4980.0\n"
     ]
    },
    {
     "data": {
      "text/plain": [
       "<AxesSubplot:ylabel='Frequency'>"
      ]
     },
     "execution_count": 4,
     "metadata": {},
     "output_type": "execute_result"
    },
    {
     "data": {
      "image/png": "[encoded data removed]",
      "text/plain": [
       "<Figure size 432x288 with 1 Axes>"
      ]
     },
     "metadata": {
      "needs_background": "light"
     },
     "output_type": "display_data"
    }
   ],
   "source": [
    "print(df['sqft_living'].sort_values(ascending = False))\n",
    "#Those are some big results.\n",
    "print(df['sqft_living'].quantile(0.99))\n",
    "# even the 99 percentile is still sub 5000. \n",
    "binvar = np.sqrt(df.sqft_living.count())\n",
    "df['sqft_living'].plot(kind = 'hist', bins = int(binvar))\n",
    "#Plotting this shows a bit skew right.\n",
    "\n",
    "#It may be wise to shave the model off around there."
   ]
  },
  {
   "cell_type": "code",
   "execution_count": 5,
   "metadata": {},
   "outputs": [
    {
     "data": {
      "image/png": "[encoded data removed]",
      "text/plain": [
       "<Figure size 432x288 with 1 Axes>"
      ]
     },
     "metadata": {
      "needs_background": "light"
     },
     "output_type": "display_data"
    }
   ],
   "source": [
    "df.sqft_living.describe()\n",
    "df['sqft_living_ratio'] = df['sqft_living'] / df['sqft_living15']\n",
    "df.sqft_living_ratio.describe()\n",
    "\n",
    "df['sqft_living_ratio'] = df.sqft_living / df.sqft_living15\n",
    "df['sqft_living_ratio'] = df['sqft_living_ratio'].loc[(np.abs(stats.zscore(df.sqft_living_ratio)) < 2)]\n",
    "df = df.dropna(subset = ['sqft_living_ratio'])\n",
    "df.sqft_living_ratio.plot(kind = 'hist', bins = int(binvar));"
   ]
  },
  {
   "cell_type": "code",
   "execution_count": 6,
   "metadata": {},
   "outputs": [
    {
     "name": "stdout",
     "output_type": "stream",
     "text": [
      "1717     1651359\n",
      "17305    1164794\n",
      "7640     1074218\n",
      "3945      982998\n",
      "4437      982278\n",
      "          ...   \n",
      "21536        638\n",
      "20588        635\n",
      "3449         609\n",
      "7582         600\n",
      "5821         572\n",
      "Name: sqft_lot, Length: 20621, dtype: int64\n",
      "206478.8\n"
     ]
    },
    {
     "data": {
      "image/png": "[encoded data removed]",
      "text/plain": [
       "<Figure size 432x288 with 1 Axes>"
      ]
     },
     "metadata": {
      "needs_background": "light"
     },
     "output_type": "display_data"
    }
   ],
   "source": [
    "print(df['sqft_lot'].sort_values(ascending = False)) \n",
    "#Holy cow! I don't think those are residential sales.\n",
    "print(df['sqft_lot'].quantile(0.99))\n",
    "#99th quantile, still high, still well below those outliers\n",
    "\n",
    "df['sqft_lot'].plot(kind = 'hist', bins = int(binvar));\n",
    "#Some weirdness at the far end"
   ]
  },
  {
   "cell_type": "code",
   "execution_count": 7,
   "metadata": {
    "scrolled": true
   },
   "outputs": [
    {
     "data": {
      "image/png": "[encoded data removed]",
      "text/plain": [
       "<Figure size 432x288 with 1 Axes>"
      ]
     },
     "metadata": {
      "needs_background": "light"
     },
     "output_type": "display_data"
    }
   ],
   "source": [
    "df.sqft_lot15.describe()\n",
    "df['sqft_lot_ratio'] = df['sqft_lot'] / df['sqft_lot15']\n",
    "df.sqft_lot_ratio.describe()\n",
    "\n",
    "df['sqft_lot_ratio'] = df.sqft_lot / df.sqft_lot15\n",
    "df['sqft_lot_ratio'] = df['sqft_lot_ratio'].loc[(np.abs(stats.zscore(df.sqft_lot_ratio)) < 2)]\n",
    "df = df.dropna(subset = ['sqft_lot_ratio'])\n",
    "df.sqft_lot_ratio.plot(kind = 'hist', bins = int(binvar));"
   ]
  },
  {
   "cell_type": "markdown",
   "metadata": {},
   "source": [
    "The data exploration above showed some outliers. The 'sqft_~_ratio' variables were created to weed out outliers. In effect, if a lot size or living sq ft size was too different from the neighboring property, then it was deemed an outlier. Dropping outliers this way allowed us to, e.g. keep a large mansion in a neighborhood of large mansions."
   ]
  },
  {
   "cell_type": "code",
   "execution_count": 8,
   "metadata": {},
   "outputs": [],
   "source": [
    "df.bedrooms.value_counts()\n",
    "bedstandev = np.std(df.bedrooms)\n",
    "#outliter threshold is often set at 3 std devs\n",
    "upper_bound = df.bedrooms.mean() + bedstandev * 3\n",
    "df= df[df.bedrooms <= upper_bound]"
   ]
  },
  {
   "cell_type": "code",
   "execution_count": 9,
   "metadata": {},
   "outputs": [
    {
     "data": {
      "text/plain": [
       "3    9520\n",
       "4    6426\n",
       "2    2662\n",
       "5    1379\n",
       "6     198\n",
       "1     166\n",
       "Name: bedrooms, dtype: int64"
      ]
     },
     "execution_count": 9,
     "metadata": {},
     "output_type": "execute_result"
    }
   ],
   "source": [
    "df.bedrooms.value_counts()\n"
   ]
  },
  {
   "cell_type": "markdown",
   "metadata": {},
   "source": [
    "One house had wildely more bedrooms than any other, and was cut as an outlier. This is a weird one because eventually we're going to make bedrooms an ordinal categorical dataset. But, to put some rigour in the outlier reduction process, went ahead and did a 3x standard dev test anyway."
   ]
  },
  {
   "cell_type": "code",
   "execution_count": 10,
   "metadata": {},
   "outputs": [],
   "source": [
    "df['view'] = df['view'].replace({'NONE': 0, 'AVERAGE': 1, 'GOOD': 2, 'FAIR': 3, 'EXCELLENT':4}).fillna(0)"
   ]
  },
  {
   "cell_type": "markdown",
   "metadata": {},
   "source": [
    "As with grade, we will later process this into categorical data."
   ]
  },
  {
   "cell_type": "code",
   "execution_count": 11,
   "metadata": {},
   "outputs": [
    {
     "data": {
      "text/plain": [
       "1.0    10231\n",
       "2.0     7653\n",
       "1.5     1752\n",
       "3.0      575\n",
       "2.5      134\n",
       "3.5        6\n",
       "Name: floors, dtype: int64"
      ]
     },
     "execution_count": 11,
     "metadata": {},
     "output_type": "execute_result"
    }
   ],
   "source": [
    "df['floors'].value_counts()\n",
    "#Seems reasonable. "
   ]
  },
  {
   "cell_type": "code",
   "execution_count": 12,
   "metadata": {},
   "outputs": [
    {
     "data": {
      "image/png": "[encoded data removed]",
      "text/plain": [
       "<Figure size 432x288 with 1 Axes>"
      ]
     },
     "metadata": {
      "needs_background": "light"
     },
     "output_type": "display_data"
    }
   ],
   "source": [
    "#cleaning the square feet above ground data\n",
    "df['sqft_above'].sort_values(ascending = False)\n",
    "#Not quite as extreme as sqft_livable\n",
    "\n",
    "df['sqft_above'].plot(kind = 'hist', bins = int(binvar));"
   ]
  },
  {
   "cell_type": "code",
   "execution_count": 13,
   "metadata": {},
   "outputs": [],
   "source": [
    "#cleaning the basement data\n",
    "df['sqft_basement'] = df['sqft_basement'].replace({'?': 0.0})\n",
    "df['sqft_basement'] = df['sqft_basement'].astype(float)"
   ]
  },
  {
   "cell_type": "markdown",
   "metadata": {},
   "source": [
    "Lacking other information, it was decided to assume that unknown basement square footage would be captured in sqft_livable and ? was set to 0. "
   ]
  },
  {
   "cell_type": "markdown",
   "metadata": {},
   "source": [
    "Now that the data has been given a preliminary cleaning, a correlation heatmap was generated.\n"
   ]
  },
  {
   "cell_type": "code",
   "execution_count": 14,
   "metadata": {},
   "outputs": [
    {
     "data": {
      "image/png": "[encoded data removed]",
      "text/plain": [
       "<Figure size 1080x1296 with 2 Axes>"
      ]
     },
     "metadata": {
      "needs_background": "light"
     },
     "output_type": "display_data"
    }
   ],
   "source": [
    "import seaborn as sns\n",
    "import numpy as np\n",
    "\n",
    "corr = df.corr()\n",
    "fig, ax = plt.subplots(figsize=(15, 18))\n",
    "sns.heatmap(\n",
    "    # Specifies the data to be plotted\n",
    "    data=corr,\n",
    "    # The mask means we only show half the values,\n",
    "    # instead of showing duplicates. It's optional.\n",
    "    mask=np.triu(np.ones_like(corr, dtype=bool)),\n",
    "    # Specifies that we should use the existing axes\n",
    "    ax=ax,\n",
    "    # Specifies that we want labels, not just colors\n",
    "    annot=True,\n",
    "    # Customizes colorbar appearance\n",
    "    cbar_kws={\"label\": \"Correlation\", \"orientation\": \"horizontal\", \"pad\": .2, \"extend\": \"both\"}\n",
    ")\n",
    "\n",
    "# Customize the plot appearance\n",
    "ax.set_title(\"Heatmap of Correlation Between Attributes (Including Target)\");"
   ]
  },
  {
   "cell_type": "code",
   "execution_count": 15,
   "metadata": {},
   "outputs": [],
   "source": [
    "ohe = OneHotEncoder(sparse = False)\n",
    "ohe.fit_transform(df[['zipcode']])\n",
    "zip_encoded = ohe.fit_transform(df[['zipcode']])\n",
    "zip_enc_df = pd.DataFrame(zip_encoded, columns=ohe.categories_[0], index=df.index)\n",
    "df_original = pd.concat([df, zip_enc_df], axis=1)\n",
    "ziplist = ohe.categories_[0].tolist()\n",
    "zipliststr = []\n",
    "for i in ziplist: \n",
    "    zipliststr.append(str(i))"
   ]
  },
  {
   "cell_type": "code",
   "execution_count": 16,
   "metadata": {},
   "outputs": [
    {
     "data": {
      "text/html": [
       "<div>\n",
       "<style scoped>\n",
       "    .dataframe tbody tr th:only-of-type {\n",
       "        vertical-align: middle;\n",
       "    }\n",
       "\n",
       "    .dataframe tbody tr th {\n",
       "        vertical-align: top;\n",
       "    }\n",
       "\n",
       "    .dataframe thead th {\n",
       "        text-align: right;\n",
       "    }\n",
       "</style>\n",
       "<table border=\"1\" class=\"dataframe\">\n",
       "  <thead>\n",
       "    <tr style=\"text-align: right;\">\n",
       "      <th></th>\n",
       "      <th>id</th>\n",
       "      <th>date</th>\n",
       "      <th>price</th>\n",
       "      <th>bedrooms</th>\n",
       "      <th>bathrooms</th>\n",
       "      <th>sqft_living</th>\n",
       "      <th>sqft_lot</th>\n",
       "      <th>floors</th>\n",
       "      <th>waterfront</th>\n",
       "      <th>view</th>\n",
       "      <th>...</th>\n",
       "      <th>98168</th>\n",
       "      <th>98177</th>\n",
       "      <th>98178</th>\n",
       "      <th>98188</th>\n",
       "      <th>98198</th>\n",
       "      <th>98199</th>\n",
       "      <th>bedrooms_cat</th>\n",
       "      <th>bathrooms_cat</th>\n",
       "      <th>floors_cat</th>\n",
       "      <th>grade_num_cat</th>\n",
       "    </tr>\n",
       "  </thead>\n",
       "  <tbody>\n",
       "    <tr>\n",
       "      <th>0</th>\n",
       "      <td>7129300520</td>\n",
       "      <td>10/13/2014</td>\n",
       "      <td>221900.0</td>\n",
       "      <td>3</td>\n",
       "      <td>1.00</td>\n",
       "      <td>1180</td>\n",
       "      <td>5650</td>\n",
       "      <td>1.0</td>\n",
       "      <td>0</td>\n",
       "      <td>0.0</td>\n",
       "      <td>...</td>\n",
       "      <td>0.0</td>\n",
       "      <td>0.0</td>\n",
       "      <td>1.0</td>\n",
       "      <td>0.0</td>\n",
       "      <td>0.0</td>\n",
       "      <td>0.0</td>\n",
       "      <td>2.0</td>\n",
       "      <td>2.0</td>\n",
       "      <td>0.0</td>\n",
       "      <td>3.0</td>\n",
       "    </tr>\n",
       "    <tr>\n",
       "      <th>1</th>\n",
       "      <td>6414100192</td>\n",
       "      <td>12/9/2014</td>\n",
       "      <td>538000.0</td>\n",
       "      <td>3</td>\n",
       "      <td>2.25</td>\n",
       "      <td>2570</td>\n",
       "      <td>7242</td>\n",
       "      <td>2.0</td>\n",
       "      <td>0</td>\n",
       "      <td>0.0</td>\n",
       "      <td>...</td>\n",
       "      <td>0.0</td>\n",
       "      <td>0.0</td>\n",
       "      <td>0.0</td>\n",
       "      <td>0.0</td>\n",
       "      <td>0.0</td>\n",
       "      <td>0.0</td>\n",
       "      <td>2.0</td>\n",
       "      <td>7.0</td>\n",
       "      <td>2.0</td>\n",
       "      <td>3.0</td>\n",
       "    </tr>\n",
       "    <tr>\n",
       "      <th>3</th>\n",
       "      <td>2487200875</td>\n",
       "      <td>12/9/2014</td>\n",
       "      <td>604000.0</td>\n",
       "      <td>4</td>\n",
       "      <td>3.00</td>\n",
       "      <td>1960</td>\n",
       "      <td>5000</td>\n",
       "      <td>1.0</td>\n",
       "      <td>0</td>\n",
       "      <td>0.0</td>\n",
       "      <td>...</td>\n",
       "      <td>0.0</td>\n",
       "      <td>0.0</td>\n",
       "      <td>0.0</td>\n",
       "      <td>0.0</td>\n",
       "      <td>0.0</td>\n",
       "      <td>0.0</td>\n",
       "      <td>3.0</td>\n",
       "      <td>10.0</td>\n",
       "      <td>0.0</td>\n",
       "      <td>3.0</td>\n",
       "    </tr>\n",
       "    <tr>\n",
       "      <th>4</th>\n",
       "      <td>1954400510</td>\n",
       "      <td>2/18/2015</td>\n",
       "      <td>510000.0</td>\n",
       "      <td>3</td>\n",
       "      <td>2.00</td>\n",
       "      <td>1680</td>\n",
       "      <td>8080</td>\n",
       "      <td>1.0</td>\n",
       "      <td>0</td>\n",
       "      <td>0.0</td>\n",
       "      <td>...</td>\n",
       "      <td>0.0</td>\n",
       "      <td>0.0</td>\n",
       "      <td>0.0</td>\n",
       "      <td>0.0</td>\n",
       "      <td>0.0</td>\n",
       "      <td>0.0</td>\n",
       "      <td>2.0</td>\n",
       "      <td>6.0</td>\n",
       "      <td>0.0</td>\n",
       "      <td>4.0</td>\n",
       "    </tr>\n",
       "    <tr>\n",
       "      <th>5</th>\n",
       "      <td>7237550310</td>\n",
       "      <td>5/12/2014</td>\n",
       "      <td>1230000.0</td>\n",
       "      <td>4</td>\n",
       "      <td>4.50</td>\n",
       "      <td>5420</td>\n",
       "      <td>101930</td>\n",
       "      <td>1.0</td>\n",
       "      <td>0</td>\n",
       "      <td>0.0</td>\n",
       "      <td>...</td>\n",
       "      <td>0.0</td>\n",
       "      <td>0.0</td>\n",
       "      <td>0.0</td>\n",
       "      <td>0.0</td>\n",
       "      <td>0.0</td>\n",
       "      <td>0.0</td>\n",
       "      <td>3.0</td>\n",
       "      <td>16.0</td>\n",
       "      <td>0.0</td>\n",
       "      <td>7.0</td>\n",
       "    </tr>\n",
       "    <tr>\n",
       "      <th>...</th>\n",
       "      <td>...</td>\n",
       "      <td>...</td>\n",
       "      <td>...</td>\n",
       "      <td>...</td>\n",
       "      <td>...</td>\n",
       "      <td>...</td>\n",
       "      <td>...</td>\n",
       "      <td>...</td>\n",
       "      <td>...</td>\n",
       "      <td>...</td>\n",
       "      <td>...</td>\n",
       "      <td>...</td>\n",
       "      <td>...</td>\n",
       "      <td>...</td>\n",
       "      <td>...</td>\n",
       "      <td>...</td>\n",
       "      <td>...</td>\n",
       "      <td>...</td>\n",
       "      <td>...</td>\n",
       "      <td>...</td>\n",
       "      <td>...</td>\n",
       "    </tr>\n",
       "    <tr>\n",
       "      <th>21592</th>\n",
       "      <td>263000018</td>\n",
       "      <td>5/21/2014</td>\n",
       "      <td>360000.0</td>\n",
       "      <td>3</td>\n",
       "      <td>2.50</td>\n",
       "      <td>1530</td>\n",
       "      <td>1131</td>\n",
       "      <td>3.0</td>\n",
       "      <td>0</td>\n",
       "      <td>0.0</td>\n",
       "      <td>...</td>\n",
       "      <td>0.0</td>\n",
       "      <td>0.0</td>\n",
       "      <td>0.0</td>\n",
       "      <td>0.0</td>\n",
       "      <td>0.0</td>\n",
       "      <td>0.0</td>\n",
       "      <td>2.0</td>\n",
       "      <td>8.0</td>\n",
       "      <td>4.0</td>\n",
       "      <td>4.0</td>\n",
       "    </tr>\n",
       "    <tr>\n",
       "      <th>21593</th>\n",
       "      <td>6600060120</td>\n",
       "      <td>2/23/2015</td>\n",
       "      <td>400000.0</td>\n",
       "      <td>4</td>\n",
       "      <td>2.50</td>\n",
       "      <td>2310</td>\n",
       "      <td>5813</td>\n",
       "      <td>2.0</td>\n",
       "      <td>0</td>\n",
       "      <td>0.0</td>\n",
       "      <td>...</td>\n",
       "      <td>0.0</td>\n",
       "      <td>0.0</td>\n",
       "      <td>0.0</td>\n",
       "      <td>0.0</td>\n",
       "      <td>0.0</td>\n",
       "      <td>0.0</td>\n",
       "      <td>3.0</td>\n",
       "      <td>8.0</td>\n",
       "      <td>2.0</td>\n",
       "      <td>4.0</td>\n",
       "    </tr>\n",
       "    <tr>\n",
       "      <th>21594</th>\n",
       "      <td>1523300141</td>\n",
       "      <td>6/23/2014</td>\n",
       "      <td>402101.0</td>\n",
       "      <td>2</td>\n",
       "      <td>0.75</td>\n",
       "      <td>1020</td>\n",
       "      <td>1350</td>\n",
       "      <td>2.0</td>\n",
       "      <td>0</td>\n",
       "      <td>0.0</td>\n",
       "      <td>...</td>\n",
       "      <td>0.0</td>\n",
       "      <td>0.0</td>\n",
       "      <td>0.0</td>\n",
       "      <td>0.0</td>\n",
       "      <td>0.0</td>\n",
       "      <td>0.0</td>\n",
       "      <td>1.0</td>\n",
       "      <td>1.0</td>\n",
       "      <td>2.0</td>\n",
       "      <td>3.0</td>\n",
       "    </tr>\n",
       "    <tr>\n",
       "      <th>21595</th>\n",
       "      <td>291310100</td>\n",
       "      <td>1/16/2015</td>\n",
       "      <td>400000.0</td>\n",
       "      <td>3</td>\n",
       "      <td>2.50</td>\n",
       "      <td>1600</td>\n",
       "      <td>2388</td>\n",
       "      <td>2.0</td>\n",
       "      <td>0</td>\n",
       "      <td>0.0</td>\n",
       "      <td>...</td>\n",
       "      <td>0.0</td>\n",
       "      <td>0.0</td>\n",
       "      <td>0.0</td>\n",
       "      <td>0.0</td>\n",
       "      <td>0.0</td>\n",
       "      <td>0.0</td>\n",
       "      <td>2.0</td>\n",
       "      <td>8.0</td>\n",
       "      <td>2.0</td>\n",
       "      <td>4.0</td>\n",
       "    </tr>\n",
       "    <tr>\n",
       "      <th>21596</th>\n",
       "      <td>1523300157</td>\n",
       "      <td>10/15/2014</td>\n",
       "      <td>325000.0</td>\n",
       "      <td>2</td>\n",
       "      <td>0.75</td>\n",
       "      <td>1020</td>\n",
       "      <td>1076</td>\n",
       "      <td>2.0</td>\n",
       "      <td>0</td>\n",
       "      <td>0.0</td>\n",
       "      <td>...</td>\n",
       "      <td>0.0</td>\n",
       "      <td>0.0</td>\n",
       "      <td>0.0</td>\n",
       "      <td>0.0</td>\n",
       "      <td>0.0</td>\n",
       "      <td>0.0</td>\n",
       "      <td>1.0</td>\n",
       "      <td>1.0</td>\n",
       "      <td>2.0</td>\n",
       "      <td>3.0</td>\n",
       "    </tr>\n",
       "  </tbody>\n",
       "</table>\n",
       "<p>20351 rows × 98 columns</p>\n",
       "</div>"
      ],
      "text/plain": [
       "               id        date      price  bedrooms  bathrooms  sqft_living  \\\n",
       "0      7129300520  10/13/2014   221900.0         3       1.00         1180   \n",
       "1      6414100192   12/9/2014   538000.0         3       2.25         2570   \n",
       "3      2487200875   12/9/2014   604000.0         4       3.00         1960   \n",
       "4      1954400510   2/18/2015   510000.0         3       2.00         1680   \n",
       "5      7237550310   5/12/2014  1230000.0         4       4.50         5420   \n",
       "...           ...         ...        ...       ...        ...          ...   \n",
       "21592   263000018   5/21/2014   360000.0         3       2.50         1530   \n",
       "21593  6600060120   2/23/2015   400000.0         4       2.50         2310   \n",
       "21594  1523300141   6/23/2014   402101.0         2       0.75         1020   \n",
       "21595   291310100   1/16/2015   400000.0         3       2.50         1600   \n",
       "21596  1523300157  10/15/2014   325000.0         2       0.75         1020   \n",
       "\n",
       "       sqft_lot  floors  waterfront  view  ... 98168 98177  98178  98188  \\\n",
       "0          5650     1.0           0   0.0  ...   0.0   0.0    1.0    0.0   \n",
       "1          7242     2.0           0   0.0  ...   0.0   0.0    0.0    0.0   \n",
       "3          5000     1.0           0   0.0  ...   0.0   0.0    0.0    0.0   \n",
       "4          8080     1.0           0   0.0  ...   0.0   0.0    0.0    0.0   \n",
       "5        101930     1.0           0   0.0  ...   0.0   0.0    0.0    0.0   \n",
       "...         ...     ...         ...   ...  ...   ...   ...    ...    ...   \n",
       "21592      1131     3.0           0   0.0  ...   0.0   0.0    0.0    0.0   \n",
       "21593      5813     2.0           0   0.0  ...   0.0   0.0    0.0    0.0   \n",
       "21594      1350     2.0           0   0.0  ...   0.0   0.0    0.0    0.0   \n",
       "21595      2388     2.0           0   0.0  ...   0.0   0.0    0.0    0.0   \n",
       "21596      1076     2.0           0   0.0  ...   0.0   0.0    0.0    0.0   \n",
       "\n",
       "       98198  98199  bedrooms_cat  bathrooms_cat  floors_cat  grade_num_cat  \n",
       "0        0.0    0.0           2.0            2.0         0.0            3.0  \n",
       "1        0.0    0.0           2.0            7.0         2.0            3.0  \n",
       "3        0.0    0.0           3.0           10.0         0.0            3.0  \n",
       "4        0.0    0.0           2.0            6.0         0.0            4.0  \n",
       "5        0.0    0.0           3.0           16.0         0.0            7.0  \n",
       "...      ...    ...           ...            ...         ...            ...  \n",
       "21592    0.0    0.0           2.0            8.0         4.0            4.0  \n",
       "21593    0.0    0.0           3.0            8.0         2.0            4.0  \n",
       "21594    0.0    0.0           1.0            1.0         2.0            3.0  \n",
       "21595    0.0    0.0           2.0            8.0         2.0            4.0  \n",
       "21596    0.0    0.0           1.0            1.0         2.0            3.0  \n",
       "\n",
       "[20351 rows x 98 columns]"
      ]
     },
     "execution_count": 16,
     "metadata": {},
     "output_type": "execute_result"
    }
   ],
   "source": [
    "ord_enc = OrdinalEncoder()\n",
    "ord_enc_f_t = ord_enc.fit_transform(df[['bedrooms','bathrooms','floors','grade_num']])\n",
    "ord_enc_df = pd.DataFrame(ord_enc_f_t, columns = ['bedrooms_cat','bathrooms_cat','floors_cat','grade_num_cat'], index=df.index)\n",
    "\n",
    "df_ord = pd.concat([df_original, ord_enc_df], axis=1)\n",
    "\n",
    "\n",
    "df_ord"
   ]
  },
  {
   "cell_type": "markdown",
   "metadata": {},
   "source": [
    "This cell encodes the zipcode data, and creates a variable of strings to use as column names later.\n",
    "\n",
    "Additionally, it processes a number of variables (bedrooms, bathrooms, floors and grade) into ordinal categorical data. \n",
    "\n",
    "With this, basic preprocessing is done."
   ]
  },
  {
   "cell_type": "markdown",
   "metadata": {},
   "source": [
    "### Spliting the data into testing and training sets"
   ]
  },
  {
   "cell_type": "code",
   "execution_count": 17,
   "metadata": {},
   "outputs": [],
   "source": [
    "X = df_original.drop(columns = ['id','date','price','lat','long','sqft_living_ratio','sqft_lot_ratio','condition','yr_built','yr_renovated','grade','zipcode'])"
   ]
  },
  {
   "cell_type": "markdown",
   "metadata": {},
   "source": [
    "### The baseline model\n",
    "\n",
    "The baseline model we chose to use was a simple model using the information we grabbed from the correlation heatmap, namely that price's highest correlated variable was livable square feet."
   ]
  },
  {
   "cell_type": "code",
   "execution_count": 18,
   "metadata": {},
   "outputs": [
    {
     "name": "stdout",
     "output_type": "stream",
     "text": [
      "Baseline Train score:      0.46874942612999\n",
      "Baseline Validation score: 0.4548179158456815\n"
     ]
    },
    {
     "data": {
      "text/html": [
       "<table class=\"simpletable\">\n",
       "<caption>OLS Regression Results</caption>\n",
       "<tr>\n",
       "  <th>Dep. Variable:</th>          <td>price</td>      <th>  R-squared:         </th>  <td>   0.465</td>  \n",
       "</tr>\n",
       "<tr>\n",
       "  <th>Model:</th>                   <td>OLS</td>       <th>  Adj. R-squared:    </th>  <td>   0.465</td>  \n",
       "</tr>\n",
       "<tr>\n",
       "  <th>Method:</th>             <td>Least Squares</td>  <th>  F-statistic:       </th>  <td>1.329e+04</td> \n",
       "</tr>\n",
       "<tr>\n",
       "  <th>Date:</th>             <td>Wed, 17 Nov 2021</td> <th>  Prob (F-statistic):</th>   <td>  0.00</td>   \n",
       "</tr>\n",
       "<tr>\n",
       "  <th>Time:</th>                 <td>15:25:33</td>     <th>  Log-Likelihood:    </th> <td>-2.1069e+05</td>\n",
       "</tr>\n",
       "<tr>\n",
       "  <th>No. Observations:</th>      <td> 15263</td>      <th>  AIC:               </th>  <td>4.214e+05</td> \n",
       "</tr>\n",
       "<tr>\n",
       "  <th>Df Residuals:</th>          <td> 15261</td>      <th>  BIC:               </th>  <td>4.214e+05</td> \n",
       "</tr>\n",
       "<tr>\n",
       "  <th>Df Model:</th>              <td>     1</td>      <th>                     </th>      <td> </td>     \n",
       "</tr>\n",
       "<tr>\n",
       "  <th>Covariance Type:</th>      <td>nonrobust</td>    <th>                     </th>      <td> </td>     \n",
       "</tr>\n",
       "</table>\n",
       "<table class=\"simpletable\">\n",
       "<tr>\n",
       "       <td></td>          <th>coef</th>     <th>std err</th>      <th>t</th>      <th>P>|t|</th>  <th>[0.025</th>    <th>0.975]</th>  \n",
       "</tr>\n",
       "<tr>\n",
       "  <th>Intercept</th>   <td>-9976.5037</td> <td> 5009.553</td> <td>   -1.991</td> <td> 0.046</td> <td>-1.98e+04</td> <td> -157.181</td>\n",
       "</tr>\n",
       "<tr>\n",
       "  <th>sqft_living</th> <td>  263.9065</td> <td>    2.289</td> <td>  115.277</td> <td> 0.000</td> <td>  259.419</td> <td>  268.394</td>\n",
       "</tr>\n",
       "</table>\n",
       "<table class=\"simpletable\">\n",
       "<tr>\n",
       "  <th>Omnibus:</th>       <td>8465.461</td> <th>  Durbin-Watson:     </th>  <td>   2.017</td> \n",
       "</tr>\n",
       "<tr>\n",
       "  <th>Prob(Omnibus):</th>  <td> 0.000</td>  <th>  Jarque-Bera (JB):  </th> <td>129809.154</td>\n",
       "</tr>\n",
       "<tr>\n",
       "  <th>Skew:</th>           <td> 2.338</td>  <th>  Prob(JB):          </th>  <td>    0.00</td> \n",
       "</tr>\n",
       "<tr>\n",
       "  <th>Kurtosis:</th>       <td>16.500</td>  <th>  Cond. No.          </th>  <td>5.66e+03</td> \n",
       "</tr>\n",
       "</table><br/><br/>Notes:<br/>[1] Standard Errors assume that the covariance matrix of the errors is correctly specified.<br/>[2] The condition number is large, 5.66e+03. This might indicate that there are<br/>strong multicollinearity or other numerical problems."
      ],
      "text/plain": [
       "<class 'statsmodels.iolib.summary.Summary'>\n",
       "\"\"\"\n",
       "                            OLS Regression Results                            \n",
       "==============================================================================\n",
       "Dep. Variable:                  price   R-squared:                       0.465\n",
       "Model:                            OLS   Adj. R-squared:                  0.465\n",
       "Method:                 Least Squares   F-statistic:                 1.329e+04\n",
       "Date:                Wed, 17 Nov 2021   Prob (F-statistic):               0.00\n",
       "Time:                        15:25:33   Log-Likelihood:            -2.1069e+05\n",
       "No. Observations:               15263   AIC:                         4.214e+05\n",
       "Df Residuals:                   15261   BIC:                         4.214e+05\n",
       "Df Model:                           1                                         \n",
       "Covariance Type:            nonrobust                                         \n",
       "===============================================================================\n",
       "                  coef    std err          t      P>|t|      [0.025      0.975]\n",
       "-------------------------------------------------------------------------------\n",
       "Intercept   -9976.5037   5009.553     -1.991      0.046   -1.98e+04    -157.181\n",
       "sqft_living   263.9065      2.289    115.277      0.000     259.419     268.394\n",
       "==============================================================================\n",
       "Omnibus:                     8465.461   Durbin-Watson:                   2.017\n",
       "Prob(Omnibus):                  0.000   Jarque-Bera (JB):           129809.154\n",
       "Skew:                           2.338   Prob(JB):                         0.00\n",
       "Kurtosis:                      16.500   Cond. No.                     5.66e+03\n",
       "==============================================================================\n",
       "\n",
       "Notes:\n",
       "[1] Standard Errors assume that the covariance matrix of the errors is correctly specified.\n",
       "[2] The condition number is large, 5.66e+03. This might indicate that there are\n",
       "strong multicollinearity or other numerical problems.\n",
       "\"\"\""
      ]
     },
     "execution_count": 18,
     "metadata": {},
     "output_type": "execute_result"
    }
   ],
   "source": [
    "from sklearn.model_selection import train_test_split\n",
    "X_train, X_test, y_train, y_test = train_test_split(X,df.price)\n",
    "\n",
    "training_data = pd.concat([X_train,y_train], axis = 1)\n",
    "testing_data = pd.concat([X_test,y_test], axis = 1)\n",
    "\n",
    "from sklearn.linear_model import LinearRegression\n",
    "\n",
    "baseline_model = LinearRegression()\n",
    "\n",
    "from sklearn.model_selection import cross_validate, ShuffleSplit\n",
    "\n",
    "splitter = ShuffleSplit(n_splits=3, test_size=0.25, random_state=0)\n",
    "\n",
    "baseline_scores = cross_validate(\n",
    "    estimator=baseline_model,\n",
    "    X=training_data[['sqft_living']],\n",
    "    y=training_data.price,\n",
    "    return_train_score=True,\n",
    "    cv=splitter\n",
    ")\n",
    "\n",
    "\n",
    "baseline_model.fit(X_train,y_train)\n",
    "\n",
    "baseline_pred_train = baseline_model.predict(X_train)\n",
    "baseline_pred_test = baseline_model.predict(X_test)\n",
    "\n",
    "baseline_train_residuals = baseline_pred_train - y_train\n",
    "baseline_test_residuals = baseline_pred_test - y_test\n",
    "\n",
    "print(\"Baseline Train score:     \", baseline_scores[\"train_score\"].mean())\n",
    "print(\"Baseline Validation score:\", baseline_scores[\"test_score\"].mean())\n",
    "\n",
    "baseline_ols = ols('price ~ sqft_living', data = training_data).fit()\n",
    "\n",
    "ols('price ~ sqft_living', data = training_data).fit().summary()"
   ]
  },
  {
   "cell_type": "code",
   "execution_count": null,
   "metadata": {},
   "outputs": [],
   "source": []
  },
  {
   "cell_type": "markdown",
   "metadata": {},
   "source": [
    "# Copy this cell over\n",
    "\n",
    "As we can see, the R-squared score isn't great. Additionally, our training score is higher than the validation score by a fair bit, indicating underfitting. "
   ]
  },
  {
   "cell_type": "code",
   "execution_count": 19,
   "metadata": {},
   "outputs": [
    {
     "data": {
      "image/png": "[encoded data removed]",
      "text/plain": [
       "<Figure size 432x288 with 1 Axes>"
      ]
     },
     "metadata": {
      "needs_background": "light"
     },
     "output_type": "display_data"
    }
   ],
   "source": [
    "plt.title('Baseline residuals')\n",
    "plt.scatter(baseline_pred_train, baseline_train_residuals)\n",
    "plt.scatter(baseline_pred_test, baseline_test_residuals)\n",
    "\n",
    "plt.plot([0, 3000000], [0, 0], color='k', linestyle='-', linewidth=2)\n",
    "plt.xlabel('label')\n",
    "### What should I label this?!? Ask David/Skylar in check in.\n",
    "plt.ylabel('Residual error')\n",
    "plt.ticklabel_format(style='plain')"
   ]
  },
  {
   "cell_type": "markdown",
   "metadata": {},
   "source": [
    "# Copy this cell over!\n",
    "\n",
    "\n",
    "The above chart shows the residual errors of our baseline model. Clearly it violates the homoskedastiticity assumption, becoming less accurate with a bias developing towards missing high.    "
   ]
  },
  {
   "cell_type": "code",
   "execution_count": 20,
   "metadata": {},
   "outputs": [
    {
     "name": "stdout",
     "output_type": "stream",
     "text": [
      "Size Bedroom Bathroom Train score: 0.48325330917496934\n",
      "Size Bedroom Bathroom Test score:  0.467752205326891\n"
     ]
    }
   ],
   "source": [
    "size_bed_bath = LinearRegression()\n",
    "\n",
    "baseline_scores = cross_validate(\n",
    "    estimator=baseline_model,\n",
    "    X=training_data[['sqft_living','bedrooms','bathrooms']],\n",
    "    y=training_data.price,\n",
    "    return_train_score=True,\n",
    "    cv=splitter\n",
    ")\n",
    "\n",
    "print(\"Size Bedroom Bathroom Train score:\", baseline_scores[\"train_score\"].mean())\n",
    "print(\"Size Bedroom Bathroom Test score: \", baseline_scores[\"test_score\"].mean())\n"
   ]
  },
  {
   "cell_type": "code",
   "execution_count": 21,
   "metadata": {},
   "outputs": [
    {
     "name": "stdout",
     "output_type": "stream",
     "text": [
      "Size Bedroom Bathroom Grade Train score: 0.5292899947823811\n",
      "Size Bedroom Bathroom Grade Test score:  0.5139224668387669\n"
     ]
    }
   ],
   "source": [
    "size_bed_bath_quality = LinearRegression()\n",
    "\n",
    "baseline_scores = cross_validate(\n",
    "    estimator=baseline_model,\n",
    "    X=training_data[['sqft_living','bedrooms','bathrooms','grade_num']],\n",
    "    y=training_data.price,\n",
    "    return_train_score=True,\n",
    "    cv=splitter\n",
    ")\n",
    "\n",
    "print(\"Size Bedroom Bathroom Grade Train score:\", baseline_scores[\"train_score\"].mean())\n",
    "print(\"Size Bedroom Bathroom Grade Test score: \", baseline_scores[\"test_score\"].mean())\n"
   ]
  },
  {
   "cell_type": "code",
   "execution_count": 22,
   "metadata": {},
   "outputs": [
    {
     "name": "stdout",
     "output_type": "stream",
     "text": [
      "Second Model Train score:      0.8109075301256435\n",
      "Second Model Validation score: 0.8011962618087457\n"
     ]
    },
    {
     "data": {
      "image/png": "[encoded data removed]",
      "text/plain": [
       "<Figure size 432x288 with 1 Axes>"
      ]
     },
     "metadata": {
      "needs_background": "light"
     },
     "output_type": "display_data"
    }
   ],
   "source": [
    "second_model = LinearRegression()\n",
    "\n",
    "second_model_scores = cross_validate(\n",
    "    estimator=second_model,\n",
    "    X=training_data.drop(columns = 'price'),\n",
    "    y=y_train,\n",
    "    return_train_score=True,\n",
    "    cv=splitter\n",
    ")\n",
    "\n",
    "\n",
    "second_model.fit(X_train,y_train)\n",
    "\n",
    "second_model_pred_train = second_model.predict(X_train)\n",
    "second_model_pred_test = second_model.predict(X_test)\n",
    "\n",
    "second_model_train_residuals = second_model_pred_train - y_train\n",
    "second_model_test_residuals = second_model_pred_test - y_test\n",
    "\n",
    "\n",
    "\n",
    "print(\"Second Model Train score:     \", second_model_scores[\"train_score\"].mean())\n",
    "print(\"Second Model Validation score:\", second_model_scores[\"test_score\"].mean())\n",
    "\n",
    "\n",
    "\n",
    "\n",
    "\n",
    "\n",
    "plt.title('Second Model residuals')\n",
    "plt.plot([0, 3000000], [0, 0], color='k', linestyle='-', linewidth=2)\n",
    "\n",
    "plt.scatter(baseline_pred_train, baseline_train_residuals, color = 'blue')\n",
    "plt.scatter(baseline_pred_test, baseline_test_residuals, color = 'blue')\n",
    "plt.scatter(second_model_pred_train, second_model_train_residuals, color = 'red' )\n",
    "plt.scatter(second_model_pred_test, second_model_test_residuals, color = 'red')\n",
    "\n",
    "plt.ticklabel_format(style='plain')\n",
    "plt.xlabel('label')\n",
    "### What should I label this?!? Ask David/Skylar in check in.\n",
    "plt.ylabel('Residual error');\n",
    "\n"
   ]
  },
  {
   "cell_type": "code",
   "execution_count": 23,
   "metadata": {},
   "outputs": [
    {
     "data": {
      "text/plain": [
       "RFECV(cv=ShuffleSplit(n_splits=3, random_state=0, test_size=0.25, train_size=None),\n",
       "      estimator=LinearRegression())"
      ]
     },
     "execution_count": 23,
     "metadata": {},
     "output_type": "execute_result"
    }
   ],
   "source": [
    "from sklearn.feature_selection import RFECV\n",
    "from sklearn.preprocessing import StandardScaler\n",
    "\n",
    "X_train_for_RFECV = StandardScaler().fit_transform(X_train)\n",
    "model_for_RFECV = LinearRegression()\n",
    "\n",
    "# Instantiate and fit the selector\n",
    "selector = RFECV(model_for_RFECV, cv=splitter)\n",
    "selector.fit(X_train_for_RFECV, y_train)"
   ]
  },
  {
   "cell_type": "code",
   "execution_count": 24,
   "metadata": {},
   "outputs": [
    {
     "name": "stdout",
     "output_type": "stream",
     "text": [
      "0.8090934659100797\n",
      "0.8240653063173322\n",
      "Train Root Mean Squarred Error: 142954.14146078142\n",
      "Test Root Mean Squarred Error: 140816.91482139032\n"
     ]
    }
   ],
   "source": [
    "from sklearn.linear_model import LinearRegression\n",
    "linreg = LinearRegression()\n",
    "linreg.fit(X_train,y_train)\n",
    "print(linreg.score(X_train, y_train))\n",
    "print(linreg.score(X_test, y_test))\n",
    "LinearRegression(copy_X=True, fit_intercept=True, n_jobs=None, normalize=False)\n",
    "\n",
    "y_hat_train = linreg.predict(X_train)\n",
    "y_hat_test = linreg.predict(X_test)\n",
    "\n",
    "from sklearn.metrics import mean_squared_error\n",
    "\n",
    "train_residuals = y_hat_train - y_train\n",
    "test_residuals = y_hat_test - y_test\n",
    "\n",
    "# Calculate training and test MSE\n",
    "\n",
    "train_mse = mean_squared_error(y_train, y_hat_train)\n",
    "test_mse = mean_squared_error(y_test, y_hat_test)\n",
    "print('Train Root Mean Squarred Error:', np.sqrt(train_mse))\n",
    "print('Test Root Mean Squarred Error:', np.sqrt(test_mse))"
   ]
  },
  {
   "cell_type": "code",
   "execution_count": 25,
   "metadata": {},
   "outputs": [],
   "source": [
    "final_train = ols('y_train ~ X_train', data = training_data).fit()\n",
    "#final_train.summary()"
   ]
  },
  {
   "cell_type": "code",
   "execution_count": 26,
   "metadata": {},
   "outputs": [],
   "source": [
    "final_test = ols('y_test ~ X_test', testing_data).fit()\n",
    "#final_test.summary()"
   ]
  },
  {
   "cell_type": "code",
   "execution_count": 27,
   "metadata": {},
   "outputs": [],
   "source": [
    "Seattle_zipcodes = [98101, 98102, 98103, 98104, 98105, \n",
    "                    98106, 98107, 98108, 98109, 98112, \n",
    "                    98115, 98116, 98117, 98118, 98119, \n",
    "                    98121, 98122, 98125, 98126, 98133, \n",
    "                    98134, 98136, 98144, 98146, 98154, \n",
    "                    98164, 98174, 98177, 98178, 98195, \n",
    "                    98199 ]\n",
    "\n",
    "df['in_Seattle'] = np.where(df['zipcode'].isin(Seattle_zipcodes),1,0)\n"
   ]
  },
  {
   "cell_type": "code",
   "execution_count": 28,
   "metadata": {},
   "outputs": [],
   "source": [
    "X = df.drop(columns = ['id','date','price','lat','long','sqft_living_ratio','sqft_lot_ratio','condition','yr_built','yr_renovated','grade','zipcode'])"
   ]
  },
  {
   "cell_type": "code",
   "execution_count": 29,
   "metadata": {},
   "outputs": [],
   "source": [
    "X_train, X_test, y_train, y_test = train_test_split(X,df.price)\n",
    "\n",
    "training_data = pd.concat([X_train,y_train], axis = 1)\n",
    "testing_data = pd.concat([X_test,y_test], axis = 1)"
   ]
  },
  {
   "cell_type": "code",
   "execution_count": 30,
   "metadata": {},
   "outputs": [
    {
     "name": "stdout",
     "output_type": "stream",
     "text": [
      "Baseline Train score:      0.46747564431429667\n",
      "Baseline Validation score: 0.47181432100718407\n"
     ]
    }
   ],
   "source": [
    "baseline_scores = cross_validate(\n",
    "    estimator=baseline_model,\n",
    "    X=training_data[['sqft_living']],\n",
    "    y=training_data.price,\n",
    "    return_train_score=True,\n",
    "    cv=splitter\n",
    ")\n",
    "\n",
    "print(\"Baseline Train score:     \", baseline_scores[\"train_score\"].mean())\n",
    "print(\"Baseline Validation score:\", baseline_scores[\"test_score\"].mean())"
   ]
  },
  {
   "cell_type": "code",
   "execution_count": 31,
   "metadata": {},
   "outputs": [
    {
     "name": "stdout",
     "output_type": "stream",
     "text": [
      "Size Bedroom Bathroom Train score: 0.4820305642454676\n",
      "Size Bedroom Bathroom Test score:  0.48955045856882345\n"
     ]
    }
   ],
   "source": [
    "size_bed_bath = LinearRegression()\n",
    "\n",
    "baseline_scores = cross_validate(\n",
    "    estimator=baseline_model,\n",
    "    X=training_data[['sqft_living','bedrooms','bathrooms']],\n",
    "    y=training_data.price,\n",
    "    return_train_score=True,\n",
    "    cv=splitter\n",
    ")\n",
    "\n",
    "print(\"Size Bedroom Bathroom Train score:\", baseline_scores[\"train_score\"].mean())\n",
    "print(\"Size Bedroom Bathroom Test score: \", baseline_scores[\"test_score\"].mean())"
   ]
  },
  {
   "cell_type": "code",
   "execution_count": 32,
   "metadata": {},
   "outputs": [
    {
     "name": "stdout",
     "output_type": "stream",
     "text": [
      "Size Bedroom Bathroom Grade Train score: 0.5236017240549072\n",
      "Size Bedroom Bathroom Grade Test score:  0.5326683370433617\n"
     ]
    }
   ],
   "source": [
    "size_bed_bath_quality = LinearRegression()\n",
    "\n",
    "baseline_scores = cross_validate(\n",
    "    estimator=baseline_model,\n",
    "    X=training_data[['sqft_living','bedrooms','bathrooms','grade_num']],\n",
    "    y=training_data.price,\n",
    "    return_train_score=True,\n",
    "    cv=splitter\n",
    ")\n",
    "\n",
    "print(\"Size Bedroom Bathroom Grade Train score:\", baseline_scores[\"train_score\"].mean())\n",
    "print(\"Size Bedroom Bathroom Grade Test score: \", baseline_scores[\"test_score\"].mean())\n"
   ]
  },
  {
   "cell_type": "code",
   "execution_count": null,
   "metadata": {},
   "outputs": [],
   "source": []
  },
  {
   "cell_type": "code",
   "execution_count": 33,
   "metadata": {},
   "outputs": [
    {
     "name": "stdout",
     "output_type": "stream",
     "text": [
      "Second Model Train score:      0.6419030775574838\n",
      "Second Model Validation score: 0.6414142454692876\n"
     ]
    }
   ],
   "source": [
    "second_model = LinearRegression()\n",
    "\n",
    "second_model_scores = cross_validate(\n",
    "    estimator=second_model,\n",
    "    X=training_data.drop(columns = 'price'),\n",
    "    y=y_train,\n",
    "    return_train_score=True,\n",
    "    cv=splitter\n",
    ")\n",
    "\n",
    "print(\"Second Model Train score:     \", second_model_scores[\"train_score\"].mean())\n",
    "print(\"Second Model Validation score:\", second_model_scores[\"test_score\"].mean())"
   ]
  },
  {
   "cell_type": "code",
   "execution_count": 34,
   "metadata": {},
   "outputs": [
    {
     "name": "stdout",
     "output_type": "stream",
     "text": [
      "Columns Selected:\n",
      "bedrooms: True\n",
      "bathrooms: False\n",
      "sqft_living: True\n",
      "sqft_lot: False\n",
      "floors: True\n",
      "waterfront: True\n",
      "view: True\n",
      "sqft_above: False\n",
      "sqft_basement: False\n",
      "sqft_living15: True\n",
      "sqft_lot15: False\n",
      "grade_num: True\n",
      "in_Seattle: True\n"
     ]
    }
   ],
   "source": [
    "from sklearn.feature_selection import RFECV\n",
    "from sklearn.preprocessing import StandardScaler\n",
    "\n",
    "X_train_for_RFECV = StandardScaler().fit_transform(X_train)\n",
    "model_for_RFECV = LinearRegression()\n",
    "\n",
    "# Instantiate and fit the selector\n",
    "selector = RFECV(model_for_RFECV, cv=splitter)\n",
    "selector.fit(X_train_for_RFECV, y_train)\n",
    "\n",
    "print(\"Columns Selected:\")\n",
    "for index, col in enumerate(X_train.columns):\n",
    "    print(f\"{col}: {selector.support_[index]}\")\n"
   ]
  },
  {
   "cell_type": "code",
   "execution_count": 35,
   "metadata": {},
   "outputs": [
    {
     "data": {
      "text/html": [
       "<table class=\"simpletable\">\n",
       "<caption>OLS Regression Results</caption>\n",
       "<tr>\n",
       "  <th>Dep. Variable:</th>          <td>price</td>      <th>  R-squared:         </th>  <td>   0.642</td>  \n",
       "</tr>\n",
       "<tr>\n",
       "  <th>Model:</th>                   <td>OLS</td>       <th>  Adj. R-squared:    </th>  <td>   0.642</td>  \n",
       "</tr>\n",
       "<tr>\n",
       "  <th>Method:</th>             <td>Least Squares</td>  <th>  F-statistic:       </th>  <td>   3039.</td>  \n",
       "</tr>\n",
       "<tr>\n",
       "  <th>Date:</th>             <td>Wed, 17 Nov 2021</td> <th>  Prob (F-statistic):</th>   <td>  0.00</td>   \n",
       "</tr>\n",
       "<tr>\n",
       "  <th>Time:</th>                 <td>15:25:37</td>     <th>  Log-Likelihood:    </th> <td>-2.0803e+05</td>\n",
       "</tr>\n",
       "<tr>\n",
       "  <th>No. Observations:</th>      <td> 15263</td>      <th>  AIC:               </th>  <td>4.161e+05</td> \n",
       "</tr>\n",
       "<tr>\n",
       "  <th>Df Residuals:</th>          <td> 15253</td>      <th>  BIC:               </th>  <td>4.162e+05</td> \n",
       "</tr>\n",
       "<tr>\n",
       "  <th>Df Model:</th>              <td>     9</td>      <th>                     </th>      <td> </td>     \n",
       "</tr>\n",
       "<tr>\n",
       "  <th>Covariance Type:</th>      <td>nonrobust</td>    <th>                     </th>      <td> </td>     \n",
       "</tr>\n",
       "</table>\n",
       "<table class=\"simpletable\">\n",
       "<tr>\n",
       "           <td></td>             <th>coef</th>     <th>std err</th>      <th>t</th>      <th>P>|t|</th>  <th>[0.025</th>    <th>0.975]</th>  \n",
       "</tr>\n",
       "<tr>\n",
       "  <th>Intercept</th>          <td>-5.541e+05</td> <td> 1.53e+04</td> <td>  -36.168</td> <td> 0.000</td> <td>-5.84e+05</td> <td>-5.24e+05</td>\n",
       "</tr>\n",
       "<tr>\n",
       "  <th>C(waterfront)[T.1]</th> <td> 6.399e+05</td> <td> 2.28e+04</td> <td>   28.079</td> <td> 0.000</td> <td> 5.95e+05</td> <td> 6.85e+05</td>\n",
       "</tr>\n",
       "<tr>\n",
       "  <th>C(in_Seattle)[T.1]</th> <td> 1.773e+05</td> <td> 3764.043</td> <td>   47.100</td> <td> 0.000</td> <td>  1.7e+05</td> <td> 1.85e+05</td>\n",
       "</tr>\n",
       "<tr>\n",
       "  <th>bedrooms</th>           <td>-2.238e+04</td> <td> 2419.431</td> <td>   -9.251</td> <td> 0.000</td> <td>-2.71e+04</td> <td>-1.76e+04</td>\n",
       "</tr>\n",
       "<tr>\n",
       "  <th>sqft_living</th>        <td>  154.0971</td> <td>    4.322</td> <td>   35.658</td> <td> 0.000</td> <td>  145.626</td> <td>  162.568</td>\n",
       "</tr>\n",
       "<tr>\n",
       "  <th>floors</th>             <td>-4.977e+04</td> <td> 3445.652</td> <td>  -14.443</td> <td> 0.000</td> <td>-5.65e+04</td> <td> -4.3e+04</td>\n",
       "</tr>\n",
       "<tr>\n",
       "  <th>view</th>               <td> 5.497e+04</td> <td> 2785.325</td> <td>   19.734</td> <td> 0.000</td> <td> 4.95e+04</td> <td> 6.04e+04</td>\n",
       "</tr>\n",
       "<tr>\n",
       "  <th>sqft_living15</th>      <td>   88.5722</td> <td>    4.702</td> <td>   18.839</td> <td> 0.000</td> <td>   79.356</td> <td>   97.788</td>\n",
       "</tr>\n",
       "<tr>\n",
       "  <th>sqft_lot15</th>         <td>   -0.2775</td> <td>    0.067</td> <td>   -4.127</td> <td> 0.000</td> <td>   -0.409</td> <td>   -0.146</td>\n",
       "</tr>\n",
       "<tr>\n",
       "  <th>grade_num</th>          <td> 8.743e+04</td> <td> 2501.097</td> <td>   34.958</td> <td> 0.000</td> <td> 8.25e+04</td> <td> 9.23e+04</td>\n",
       "</tr>\n",
       "</table>\n",
       "<table class=\"simpletable\">\n",
       "<tr>\n",
       "  <th>Omnibus:</th>       <td>7724.153</td> <th>  Durbin-Watson:     </th>  <td>   2.014</td> \n",
       "</tr>\n",
       "<tr>\n",
       "  <th>Prob(Omnibus):</th>  <td> 0.000</td>  <th>  Jarque-Bera (JB):  </th> <td>120691.433</td>\n",
       "</tr>\n",
       "<tr>\n",
       "  <th>Skew:</th>           <td> 2.057</td>  <th>  Prob(JB):          </th>  <td>    0.00</td> \n",
       "</tr>\n",
       "<tr>\n",
       "  <th>Kurtosis:</th>       <td>16.148</td>  <th>  Cond. No.          </th>  <td>3.96e+05</td> \n",
       "</tr>\n",
       "</table><br/><br/>Notes:<br/>[1] Standard Errors assume that the covariance matrix of the errors is correctly specified.<br/>[2] The condition number is large, 3.96e+05. This might indicate that there are<br/>strong multicollinearity or other numerical problems."
      ],
      "text/plain": [
       "<class 'statsmodels.iolib.summary.Summary'>\n",
       "\"\"\"\n",
       "                            OLS Regression Results                            \n",
       "==============================================================================\n",
       "Dep. Variable:                  price   R-squared:                       0.642\n",
       "Model:                            OLS   Adj. R-squared:                  0.642\n",
       "Method:                 Least Squares   F-statistic:                     3039.\n",
       "Date:                Wed, 17 Nov 2021   Prob (F-statistic):               0.00\n",
       "Time:                        15:25:37   Log-Likelihood:            -2.0803e+05\n",
       "No. Observations:               15263   AIC:                         4.161e+05\n",
       "Df Residuals:                   15253   BIC:                         4.162e+05\n",
       "Df Model:                           9                                         \n",
       "Covariance Type:            nonrobust                                         \n",
       "======================================================================================\n",
       "                         coef    std err          t      P>|t|      [0.025      0.975]\n",
       "--------------------------------------------------------------------------------------\n",
       "Intercept          -5.541e+05   1.53e+04    -36.168      0.000   -5.84e+05   -5.24e+05\n",
       "C(waterfront)[T.1]  6.399e+05   2.28e+04     28.079      0.000    5.95e+05    6.85e+05\n",
       "C(in_Seattle)[T.1]  1.773e+05   3764.043     47.100      0.000     1.7e+05    1.85e+05\n",
       "bedrooms           -2.238e+04   2419.431     -9.251      0.000   -2.71e+04   -1.76e+04\n",
       "sqft_living          154.0971      4.322     35.658      0.000     145.626     162.568\n",
       "floors             -4.977e+04   3445.652    -14.443      0.000   -5.65e+04    -4.3e+04\n",
       "view                5.497e+04   2785.325     19.734      0.000    4.95e+04    6.04e+04\n",
       "sqft_living15         88.5722      4.702     18.839      0.000      79.356      97.788\n",
       "sqft_lot15            -0.2775      0.067     -4.127      0.000      -0.409      -0.146\n",
       "grade_num           8.743e+04   2501.097     34.958      0.000    8.25e+04    9.23e+04\n",
       "==============================================================================\n",
       "Omnibus:                     7724.153   Durbin-Watson:                   2.014\n",
       "Prob(Omnibus):                  0.000   Jarque-Bera (JB):           120691.433\n",
       "Skew:                           2.057   Prob(JB):                         0.00\n",
       "Kurtosis:                      16.148   Cond. No.                     3.96e+05\n",
       "==============================================================================\n",
       "\n",
       "Notes:\n",
       "[1] Standard Errors assume that the covariance matrix of the errors is correctly specified.\n",
       "[2] The condition number is large, 3.96e+05. This might indicate that there are\n",
       "strong multicollinearity or other numerical problems.\n",
       "\"\"\""
      ]
     },
     "execution_count": 35,
     "metadata": {},
     "output_type": "execute_result"
    }
   ],
   "source": [
    "ols('price ~ bedrooms + sqft_living + floors + C(waterfront)+ view + sqft_living15 + sqft_lot15 + grade_num + C(in_Seattle)', data = training_data).fit().summary()"
   ]
  },
  {
   "cell_type": "code",
   "execution_count": 36,
   "metadata": {},
   "outputs": [
    {
     "data": {
      "image/png": "[encoded data removed]",
      "text/plain": [
       "<Figure size 864x576 with 1 Axes>"
      ]
     },
     "metadata": {
      "needs_background": "light"
     },
     "output_type": "display_data"
    }
   ],
   "source": [
    "df['price_per_sqft'] = df['price'].div(df['sqft_living'])\n",
    "\n",
    "fig, ax = plt.subplots(figsize = (12,8))\n",
    "sns.histplot(ax=ax, data = df, x = 'price_per_sqft', hue = 'in_Seattle', binwidth = 25, alpha = .5)\n",
    "ax.set_xlabel('Price per Square Foot')\n",
    "ax.set_ylabel('Number of Homes')\n",
    "ax.set_title('Price of Housing in King County')\n",
    "ax.legend(['In Seattle','Outside Seattle']);"
   ]
  },
  {
   "cell_type": "code",
   "execution_count": null,
   "metadata": {},
   "outputs": [],
   "source": []
  }
 ],
 "metadata": {
  "kernelspec": {
   "display_name": "Python (learn-env)",
   "language": "python",
   "name": "learn-env"
  },
  "language_info": {
   "codemirror_mode": {
    "name": "ipython",
    "version": 3
   },
   "file_extension": ".py",
   "mimetype": "text/x-python",
   "name": "python",
   "nbconvert_exporter": "python",
   "pygments_lexer": "ipython3",
   "version": "3.8.5"
  }
 },
 "nbformat": 4,
 "nbformat_minor": 4
}
