{
 "cells": [
  {
   "cell_type": "code",
   "execution_count": null,
   "metadata": {},
   "outputs": [],
   "source": [
    "#Importing modules, tools, etc.\n",
    "import pandas as pd\n",
    "\n"
   ]
  },
  {
   "cell_type": "code",
   "execution_count": null,
   "metadata": {},
   "outputs": [],
   "source": [
    "#importing main dataframe as df\n",
    "df = pd.read_csv('data/kc_house_data.csv') "
   ]
  },
  {
   "cell_type": "code",
   "execution_count": null,
   "metadata": {},
   "outputs": [],
   "source": [
    "#Converting grade column to an int value\n",
    "\n",
    "#Create a dummy list\n",
    "grade_num = []\n",
    "\n",
    "#Go through each row, grabbing the first index off the string, conver to int\n",
    "for index, row in df.iterrows():\n",
    "    grade_num.append(int((str(row['grade'])[0])))\n",
    "\n",
    "#drop the old column and add the new\n",
    "df['grade_num'] = grade_num\n",
    "df.drop('grade', axis = 1)"
   ]
  }
 ],
 "metadata": {
  "kernelspec": {
   "display_name": "Python (learn-env)",
   "language": "python",
   "name": "learn-env"
  },
  "language_info": {
   "codemirror_mode": {
    "name": "ipython",
    "version": 3
   },
   "file_extension": ".py",
   "mimetype": "text/x-python",
   "name": "python",
   "nbconvert_exporter": "python",
   "pygments_lexer": "ipython3",
   "version": "3.8.5"
  }
 },
 "nbformat": 4,
 "nbformat_minor": 4
}
