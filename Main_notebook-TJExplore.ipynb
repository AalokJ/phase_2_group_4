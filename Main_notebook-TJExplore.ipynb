{
 "cells": [
  {
   "cell_type": "code",
   "execution_count": null,
   "metadata": {},
   "outputs": [],
   "source": []
  },
  {
   "cell_type": "code",
   "execution_count": 2,
   "metadata": {},
   "outputs": [],
   "source": [
    "#Importing modules, tools, etc.\n",
    "import pandas as pd\n",
    "import numpy as np\n",
    "import matplotlib.pyplot as plt\n",
    "import seaborn as sns\n",
    "import scipy.stats as stats\n",
    "import statsmodels.api as sm\n",
    "from statsmodels.formula.api import ols\n",
    "from sklearn.preprocessing import OrdinalEncoder\n",
    "from sklearn.preprocessing import OneHotEncoder\n",
    "from statsmodels.graphics import regressionplots\n",
    "from sklearn.model_selection import train_test_split, cross_validate, ShuffleSplit\n",
    "from sklearn.metrics import mean_squared_error as MSE\n",
    "from sklearn.dummy import DummyRegressor\n",
    "from sklearn.linear_model import LinearRegression\n",
    "from sklearn import datasets, linear_model\n",
    "from sklearn.feature_selection import RFECV\n",
    "from sklearn.preprocessing import StandardScaler\n",
    "\n",
    "\n",
    "\n",
    "\n",
    "#importing main dataframe as df\n",
    "df = pd.read_csv('data/kc_house_data.csv')"
   ]
  },
  {
   "cell_type": "markdown",
   "metadata": {},
   "source": [
    "### Data Cleaning"
   ]
  },
  {
   "cell_type": "code",
   "execution_count": 3,
   "metadata": {
    "scrolled": true
   },
   "outputs": [],
   "source": [
    "#Converting grade column to an int value\n",
    "\n",
    "#Create a dummy list\n",
    "grade_num = []\n",
    "\n",
    "#Go through each row, grabbing the first index off the string, conver to int\n",
    "for index, row in df.iterrows():\n",
    "    grade_num.append(int((str(row['grade'])[0:2])))\n",
    "\n",
    "#drop the old column and add the new\n",
    "df['grade_num'] = grade_num\n",
    "df.drop('grade', axis = 1);"
   ]
  },
  {
   "cell_type": "markdown",
   "metadata": {},
   "source": [
    "Converting the grade to a numeric value.  For the sake of consistency, it was descided to keep the scale provided by the city, however, we will later process this data into categorical data."
   ]
  },
  {
   "cell_type": "code",
   "execution_count": 4,
   "metadata": {},
   "outputs": [],
   "source": [
    "# Turning NaNs in the waterfront data into NO's, then converting waterfront to binary.\n",
    "# 0 is a waterfront no, 1 is a waterfront yes\n",
    "#\n",
    "\n",
    "df.waterfront.fillna(value='NO', inplace = True)\n",
    "df.waterfront.replace( to_replace = ['NO','YES'], value =  [0,1], inplace = True)"
   ]
  },
  {
   "cell_type": "markdown",
   "metadata": {},
   "source": [
    "A quick check on a random sample of the NaN's within the waterfront column via the lat/long provided showed that these properties were not on the waterfront. It was decided that we'd fill in the Nan's as nos."
   ]
  },
  {
   "cell_type": "code",
   "execution_count": 5,
   "metadata": {
    "scrolled": true
   },
   "outputs": [
    {
     "name": "stdout",
     "output_type": "stream",
     "text": [
      "12764    13540\n",
      "7245     12050\n",
      "3910     10040\n",
      "9245      9890\n",
      "8085      9640\n",
      "         ...  \n",
      "11488      420\n",
      "8614       410\n",
      "21316      390\n",
      "860        380\n",
      "15367      370\n",
      "Name: sqft_living, Length: 21597, dtype: int64\n",
      "4980.0\n"
     ]
    },
    {
     "data": {
      "text/plain": [
       "<AxesSubplot:ylabel='Frequency'>"
      ]
     },
     "execution_count": 5,
     "metadata": {},
     "output_type": "execute_result"
    },
    {
     "data": {
      "image/png": "[encoded data removed]",
      "text/plain": [
       "<Figure size 432x288 with 1 Axes>"
      ]
     },
     "metadata": {
      "needs_background": "light"
     },
     "output_type": "display_data"
    }
   ],
   "source": [
    "print(df['sqft_living'].sort_values(ascending = False))\n",
    "#Those are some big results.\n",
    "print(df['sqft_living'].quantile(0.99))\n",
    "# even the 99 percentile is still sub 5000. \n",
    "binvar = np.sqrt(df.sqft_living.count())\n",
    "df['sqft_living'].plot(kind = 'hist', bins = int(binvar))\n",
    "#Plotting this shows a bit skew right.\n",
    "\n",
    "#It may be wise to shave the model off around there."
   ]
  },
  {
   "cell_type": "code",
   "execution_count": 6,
   "metadata": {},
   "outputs": [
    {
     "data": {
      "image/png": "[encoded data removed]",
      "text/plain": [
       "<Figure size 432x288 with 1 Axes>"
      ]
     },
     "metadata": {
      "needs_background": "light"
     },
     "output_type": "display_data"
    }
   ],
   "source": [
    "df.sqft_living.describe()\n",
    "df['sqft_living_ratio'] = df['sqft_living'] / df['sqft_living15']\n",
    "df.sqft_living_ratio.describe()\n",
    "\n",
    "df['sqft_living_ratio'] = df.sqft_living / df.sqft_living15\n",
    "df['sqft_living_ratio'] = df['sqft_living_ratio'].loc[(np.abs(stats.zscore(df.sqft_living_ratio)) < 2)]\n",
    "df = df.dropna(subset = ['sqft_living_ratio'])\n",
    "df.sqft_living_ratio.plot(kind = 'hist', bins = int(binvar));"
   ]
  },
  {
   "cell_type": "code",
   "execution_count": 7,
   "metadata": {},
   "outputs": [
    {
     "name": "stdout",
     "output_type": "stream",
     "text": [
      "1717     1651359\n",
      "17305    1164794\n",
      "7640     1074218\n",
      "3945      982998\n",
      "4437      982278\n",
      "          ...   \n",
      "21536        638\n",
      "20588        635\n",
      "3449         609\n",
      "7582         600\n",
      "5821         572\n",
      "Name: sqft_lot, Length: 20621, dtype: int64\n",
      "206478.8\n"
     ]
    },
    {
     "data": {
      "image/png": "[encoded data removed]",
      "text/plain": [
       "<Figure size 432x288 with 1 Axes>"
      ]
     },
     "metadata": {
      "needs_background": "light"
     },
     "output_type": "display_data"
    }
   ],
   "source": [
    "print(df['sqft_lot'].sort_values(ascending = False)) \n",
    "#Holy cow! I don't think those are residential sales.\n",
    "print(df['sqft_lot'].quantile(0.99))\n",
    "#99th quantile, still high, still well below those outliers\n",
    "\n",
    "df['sqft_lot'].plot(kind = 'hist', bins = int(binvar));\n",
    "#Some weirdness at the far end"
   ]
  },
  {
   "cell_type": "code",
   "execution_count": 8,
   "metadata": {
    "scrolled": true
   },
   "outputs": [
    {
     "data": {
      "image/png": "[encoded data removed]",
      "text/plain": [
       "<Figure size 432x288 with 1 Axes>"
      ]
     },
     "metadata": {
      "needs_background": "light"
     },
     "output_type": "display_data"
    }
   ],
   "source": [
    "df.sqft_lot15.describe()\n",
    "df['sqft_lot_ratio'] = df['sqft_lot'] / df['sqft_lot15']\n",
    "df.sqft_lot_ratio.describe()\n",
    "\n",
    "df['sqft_lot_ratio'] = df.sqft_lot / df.sqft_lot15\n",
    "df['sqft_lot_ratio'] = df['sqft_lot_ratio'].loc[(np.abs(stats.zscore(df.sqft_lot_ratio)) < 2)]\n",
    "df = df.dropna(subset = ['sqft_lot_ratio'])\n",
    "df.sqft_lot_ratio.plot(kind = 'hist', bins = int(binvar));"
   ]
  },
  {
   "cell_type": "markdown",
   "metadata": {},
   "source": [
    "The data exploration above showed some outliers. The 'sqft_~_ratio' variables were created to weed out outliers. In effect, if a lot size or living sq ft size was too different from the neighboring property, then it was deemed an outlier. Dropping outliers this way allowed us to, e.g. keep a large mansion in a neighborhood of large mansions."
   ]
  },
  {
   "cell_type": "code",
   "execution_count": 9,
   "metadata": {},
   "outputs": [
    {
     "name": "stdout",
     "output_type": "stream",
     "text": [
      "3     9520\n",
      "4     6426\n",
      "2     2662\n",
      "5     1379\n",
      "6      198\n",
      "1      166\n",
      "7       23\n",
      "8        7\n",
      "10       2\n",
      "9        2\n",
      "33       1\n",
      "Name: bedrooms, dtype: int64\n"
     ]
    }
   ],
   "source": [
    "print(df.bedrooms.value_counts())\n",
    "bedstandev = np.std(df.bedrooms)\n",
    "#outliter threshold is often set at 3 std devs\n",
    "upper_bound = df.bedrooms.mean() + bedstandev * 3\n",
    "df= df[df.bedrooms <= upper_bound]"
   ]
  },
  {
   "cell_type": "markdown",
   "metadata": {},
   "source": [
    "One house had wildely more bedrooms than any others. This is a weird one because eventually we're going to make bedrooms an ordinal categorical dataset. But, to put some rigour in the outlier reduction process, went ahead and did a 3x standard dev test anyway."
   ]
  },
  {
   "cell_type": "code",
   "execution_count": 10,
   "metadata": {},
   "outputs": [],
   "source": [
    "df['view'] = df['view'].replace({'NONE': 0, 'AVERAGE': 1, 'GOOD': 2, 'FAIR': 3, 'EXCELLENT':4}).fillna(0)\n"
   ]
  },
  {
   "cell_type": "markdown",
   "metadata": {},
   "source": [
    "As with grade, we will later process this into categorical data."
   ]
  },
  {
   "cell_type": "code",
   "execution_count": 11,
   "metadata": {},
   "outputs": [
    {
     "data": {
      "text/plain": [
       "1.0    10231\n",
       "2.0     7653\n",
       "1.5     1752\n",
       "3.0      575\n",
       "2.5      134\n",
       "3.5        6\n",
       "Name: floors, dtype: int64"
      ]
     },
     "execution_count": 11,
     "metadata": {},
     "output_type": "execute_result"
    }
   ],
   "source": [
    "df['floors'].value_counts()\n",
    "#Seems reasonable. "
   ]
  },
  {
   "cell_type": "code",
   "execution_count": 12,
   "metadata": {},
   "outputs": [
    {
     "data": {
      "image/png": "[encoded data removed]",
      "text/plain": [
       "<Figure size 432x288 with 1 Axes>"
      ]
     },
     "metadata": {
      "needs_background": "light"
     },
     "output_type": "display_data"
    }
   ],
   "source": [
    "#cleaning the square feet above ground data\n",
    "df['sqft_above'].sort_values(ascending = False)\n",
    "#Not quite as extreme as sqft_livable\n",
    "\n",
    "df['sqft_above'].plot(kind = 'hist', bins = int(binvar));"
   ]
  },
  {
   "cell_type": "code",
   "execution_count": 13,
   "metadata": {},
   "outputs": [],
   "source": [
    "#cleaning the basement data\n",
    "df['sqft_basement'] = df['sqft_basement'].replace({'?': 0.0})\n",
    "df['sqft_basement'] = df['sqft_basement'].astype(float)"
   ]
  },
  {
   "cell_type": "markdown",
   "metadata": {},
   "source": [
    "Lacking other information, it was decided to assume that unknown basement square footage would be captured in sqft_livable and ? was set to 0. "
   ]
  },
  {
   "cell_type": "markdown",
   "metadata": {},
   "source": [
    "Now that the data has been given a preliminary cleaning, a correlation heatmap was generated.\n"
   ]
  },
  {
   "cell_type": "code",
   "execution_count": 14,
   "metadata": {},
   "outputs": [
    {
     "data": {
      "image/png": "[encoded data removed]",
      "text/plain": [
       "<Figure size 1080x1296 with 2 Axes>"
      ]
     },
     "metadata": {
      "needs_background": "light"
     },
     "output_type": "display_data"
    }
   ],
   "source": [
    "corr = df.corr()\n",
    "fig, ax = plt.subplots(figsize=(15, 18))\n",
    "sns.heatmap(\n",
    "    # Specifies the data to be plotted\n",
    "    data=corr,\n",
    "    # The mask means we only show half the values,\n",
    "    # instead of showing duplicates. It's optional.\n",
    "    mask=np.triu(np.ones_like(corr, dtype=bool)),\n",
    "    # Specifies that we should use the existing axes\n",
    "    ax=ax,\n",
    "    # Specifies that we want labels, not just colors\n",
    "    annot=True,\n",
    "    # Customizes colorbar appearance\n",
    "    cbar_kws={\"label\": \"Correlation\", \"orientation\": \"horizontal\", \"pad\": .2, \"extend\": \"both\"}\n",
    ")\n",
    "\n",
    "# Customize the plot appearance\n",
    "ax.set_title(\"Heatmap of Correlation Between Attributes (Including Target)\");"
   ]
  },
  {
   "cell_type": "code",
   "execution_count": 15,
   "metadata": {},
   "outputs": [],
   "source": [
    "ohe = OneHotEncoder(sparse = False)\n",
    "ohe.fit_transform(df[['zipcode']])\n",
    "zip_encoded = ohe.fit_transform(df[['zipcode']])\n",
    "zip_enc_df = pd.DataFrame(zip_encoded, columns=ohe.categories_[0], index=df.index)\n",
    "df_original = pd.concat([df, zip_enc_df], axis=1)\n",
    "ziplist = ohe.categories_[0].tolist()\n",
    "zipliststr = []\n",
    "for i in ziplist: \n",
    "    zipliststr.append(str(i))"
   ]
  },
  {
   "cell_type": "code",
   "execution_count": 16,
   "metadata": {},
   "outputs": [
    {
     "data": {
      "text/html": [
       "<div>\n",
       "<style scoped>\n",
       "    .dataframe tbody tr th:only-of-type {\n",
       "        vertical-align: middle;\n",
       "    }\n",
       "\n",
       "    .dataframe tbody tr th {\n",
       "        vertical-align: top;\n",
       "    }\n",
       "\n",
       "    .dataframe thead th {\n",
       "        text-align: right;\n",
       "    }\n",
       "</style>\n",
       "<table border=\"1\" class=\"dataframe\">\n",
       "  <thead>\n",
       "    <tr style=\"text-align: right;\">\n",
       "      <th></th>\n",
       "      <th>id</th>\n",
       "      <th>date</th>\n",
       "      <th>price</th>\n",
       "      <th>bedrooms</th>\n",
       "      <th>bathrooms</th>\n",
       "      <th>sqft_living</th>\n",
       "      <th>sqft_lot</th>\n",
       "      <th>floors</th>\n",
       "      <th>waterfront</th>\n",
       "      <th>view</th>\n",
       "      <th>...</th>\n",
       "      <th>98168</th>\n",
       "      <th>98177</th>\n",
       "      <th>98178</th>\n",
       "      <th>98188</th>\n",
       "      <th>98198</th>\n",
       "      <th>98199</th>\n",
       "      <th>bedrooms_cat</th>\n",
       "      <th>bathrooms_cat</th>\n",
       "      <th>floors_cat</th>\n",
       "      <th>grade_num_cat</th>\n",
       "    </tr>\n",
       "  </thead>\n",
       "  <tbody>\n",
       "    <tr>\n",
       "      <th>0</th>\n",
       "      <td>7129300520</td>\n",
       "      <td>10/13/2014</td>\n",
       "      <td>221900.0</td>\n",
       "      <td>3</td>\n",
       "      <td>1.00</td>\n",
       "      <td>1180</td>\n",
       "      <td>5650</td>\n",
       "      <td>1.0</td>\n",
       "      <td>0</td>\n",
       "      <td>0.0</td>\n",
       "      <td>...</td>\n",
       "      <td>0.0</td>\n",
       "      <td>0.0</td>\n",
       "      <td>1.0</td>\n",
       "      <td>0.0</td>\n",
       "      <td>0.0</td>\n",
       "      <td>0.0</td>\n",
       "      <td>2.0</td>\n",
       "      <td>2.0</td>\n",
       "      <td>0.0</td>\n",
       "      <td>3.0</td>\n",
       "    </tr>\n",
       "    <tr>\n",
       "      <th>1</th>\n",
       "      <td>6414100192</td>\n",
       "      <td>12/9/2014</td>\n",
       "      <td>538000.0</td>\n",
       "      <td>3</td>\n",
       "      <td>2.25</td>\n",
       "      <td>2570</td>\n",
       "      <td>7242</td>\n",
       "      <td>2.0</td>\n",
       "      <td>0</td>\n",
       "      <td>0.0</td>\n",
       "      <td>...</td>\n",
       "      <td>0.0</td>\n",
       "      <td>0.0</td>\n",
       "      <td>0.0</td>\n",
       "      <td>0.0</td>\n",
       "      <td>0.0</td>\n",
       "      <td>0.0</td>\n",
       "      <td>2.0</td>\n",
       "      <td>7.0</td>\n",
       "      <td>2.0</td>\n",
       "      <td>3.0</td>\n",
       "    </tr>\n",
       "    <tr>\n",
       "      <th>3</th>\n",
       "      <td>2487200875</td>\n",
       "      <td>12/9/2014</td>\n",
       "      <td>604000.0</td>\n",
       "      <td>4</td>\n",
       "      <td>3.00</td>\n",
       "      <td>1960</td>\n",
       "      <td>5000</td>\n",
       "      <td>1.0</td>\n",
       "      <td>0</td>\n",
       "      <td>0.0</td>\n",
       "      <td>...</td>\n",
       "      <td>0.0</td>\n",
       "      <td>0.0</td>\n",
       "      <td>0.0</td>\n",
       "      <td>0.0</td>\n",
       "      <td>0.0</td>\n",
       "      <td>0.0</td>\n",
       "      <td>3.0</td>\n",
       "      <td>10.0</td>\n",
       "      <td>0.0</td>\n",
       "      <td>3.0</td>\n",
       "    </tr>\n",
       "    <tr>\n",
       "      <th>4</th>\n",
       "      <td>1954400510</td>\n",
       "      <td>2/18/2015</td>\n",
       "      <td>510000.0</td>\n",
       "      <td>3</td>\n",
       "      <td>2.00</td>\n",
       "      <td>1680</td>\n",
       "      <td>8080</td>\n",
       "      <td>1.0</td>\n",
       "      <td>0</td>\n",
       "      <td>0.0</td>\n",
       "      <td>...</td>\n",
       "      <td>0.0</td>\n",
       "      <td>0.0</td>\n",
       "      <td>0.0</td>\n",
       "      <td>0.0</td>\n",
       "      <td>0.0</td>\n",
       "      <td>0.0</td>\n",
       "      <td>2.0</td>\n",
       "      <td>6.0</td>\n",
       "      <td>0.0</td>\n",
       "      <td>4.0</td>\n",
       "    </tr>\n",
       "    <tr>\n",
       "      <th>5</th>\n",
       "      <td>7237550310</td>\n",
       "      <td>5/12/2014</td>\n",
       "      <td>1230000.0</td>\n",
       "      <td>4</td>\n",
       "      <td>4.50</td>\n",
       "      <td>5420</td>\n",
       "      <td>101930</td>\n",
       "      <td>1.0</td>\n",
       "      <td>0</td>\n",
       "      <td>0.0</td>\n",
       "      <td>...</td>\n",
       "      <td>0.0</td>\n",
       "      <td>0.0</td>\n",
       "      <td>0.0</td>\n",
       "      <td>0.0</td>\n",
       "      <td>0.0</td>\n",
       "      <td>0.0</td>\n",
       "      <td>3.0</td>\n",
       "      <td>16.0</td>\n",
       "      <td>0.0</td>\n",
       "      <td>7.0</td>\n",
       "    </tr>\n",
       "    <tr>\n",
       "      <th>...</th>\n",
       "      <td>...</td>\n",
       "      <td>...</td>\n",
       "      <td>...</td>\n",
       "      <td>...</td>\n",
       "      <td>...</td>\n",
       "      <td>...</td>\n",
       "      <td>...</td>\n",
       "      <td>...</td>\n",
       "      <td>...</td>\n",
       "      <td>...</td>\n",
       "      <td>...</td>\n",
       "      <td>...</td>\n",
       "      <td>...</td>\n",
       "      <td>...</td>\n",
       "      <td>...</td>\n",
       "      <td>...</td>\n",
       "      <td>...</td>\n",
       "      <td>...</td>\n",
       "      <td>...</td>\n",
       "      <td>...</td>\n",
       "      <td>...</td>\n",
       "    </tr>\n",
       "    <tr>\n",
       "      <th>21592</th>\n",
       "      <td>263000018</td>\n",
       "      <td>5/21/2014</td>\n",
       "      <td>360000.0</td>\n",
       "      <td>3</td>\n",
       "      <td>2.50</td>\n",
       "      <td>1530</td>\n",
       "      <td>1131</td>\n",
       "      <td>3.0</td>\n",
       "      <td>0</td>\n",
       "      <td>0.0</td>\n",
       "      <td>...</td>\n",
       "      <td>0.0</td>\n",
       "      <td>0.0</td>\n",
       "      <td>0.0</td>\n",
       "      <td>0.0</td>\n",
       "      <td>0.0</td>\n",
       "      <td>0.0</td>\n",
       "      <td>2.0</td>\n",
       "      <td>8.0</td>\n",
       "      <td>4.0</td>\n",
       "      <td>4.0</td>\n",
       "    </tr>\n",
       "    <tr>\n",
       "      <th>21593</th>\n",
       "      <td>6600060120</td>\n",
       "      <td>2/23/2015</td>\n",
       "      <td>400000.0</td>\n",
       "      <td>4</td>\n",
       "      <td>2.50</td>\n",
       "      <td>2310</td>\n",
       "      <td>5813</td>\n",
       "      <td>2.0</td>\n",
       "      <td>0</td>\n",
       "      <td>0.0</td>\n",
       "      <td>...</td>\n",
       "      <td>0.0</td>\n",
       "      <td>0.0</td>\n",
       "      <td>0.0</td>\n",
       "      <td>0.0</td>\n",
       "      <td>0.0</td>\n",
       "      <td>0.0</td>\n",
       "      <td>3.0</td>\n",
       "      <td>8.0</td>\n",
       "      <td>2.0</td>\n",
       "      <td>4.0</td>\n",
       "    </tr>\n",
       "    <tr>\n",
       "      <th>21594</th>\n",
       "      <td>1523300141</td>\n",
       "      <td>6/23/2014</td>\n",
       "      <td>402101.0</td>\n",
       "      <td>2</td>\n",
       "      <td>0.75</td>\n",
       "      <td>1020</td>\n",
       "      <td>1350</td>\n",
       "      <td>2.0</td>\n",
       "      <td>0</td>\n",
       "      <td>0.0</td>\n",
       "      <td>...</td>\n",
       "      <td>0.0</td>\n",
       "      <td>0.0</td>\n",
       "      <td>0.0</td>\n",
       "      <td>0.0</td>\n",
       "      <td>0.0</td>\n",
       "      <td>0.0</td>\n",
       "      <td>1.0</td>\n",
       "      <td>1.0</td>\n",
       "      <td>2.0</td>\n",
       "      <td>3.0</td>\n",
       "    </tr>\n",
       "    <tr>\n",
       "      <th>21595</th>\n",
       "      <td>291310100</td>\n",
       "      <td>1/16/2015</td>\n",
       "      <td>400000.0</td>\n",
       "      <td>3</td>\n",
       "      <td>2.50</td>\n",
       "      <td>1600</td>\n",
       "      <td>2388</td>\n",
       "      <td>2.0</td>\n",
       "      <td>0</td>\n",
       "      <td>0.0</td>\n",
       "      <td>...</td>\n",
       "      <td>0.0</td>\n",
       "      <td>0.0</td>\n",
       "      <td>0.0</td>\n",
       "      <td>0.0</td>\n",
       "      <td>0.0</td>\n",
       "      <td>0.0</td>\n",
       "      <td>2.0</td>\n",
       "      <td>8.0</td>\n",
       "      <td>2.0</td>\n",
       "      <td>4.0</td>\n",
       "    </tr>\n",
       "    <tr>\n",
       "      <th>21596</th>\n",
       "      <td>1523300157</td>\n",
       "      <td>10/15/2014</td>\n",
       "      <td>325000.0</td>\n",
       "      <td>2</td>\n",
       "      <td>0.75</td>\n",
       "      <td>1020</td>\n",
       "      <td>1076</td>\n",
       "      <td>2.0</td>\n",
       "      <td>0</td>\n",
       "      <td>0.0</td>\n",
       "      <td>...</td>\n",
       "      <td>0.0</td>\n",
       "      <td>0.0</td>\n",
       "      <td>0.0</td>\n",
       "      <td>0.0</td>\n",
       "      <td>0.0</td>\n",
       "      <td>0.0</td>\n",
       "      <td>1.0</td>\n",
       "      <td>1.0</td>\n",
       "      <td>2.0</td>\n",
       "      <td>3.0</td>\n",
       "    </tr>\n",
       "  </tbody>\n",
       "</table>\n",
       "<p>20351 rows × 98 columns</p>\n",
       "</div>"
      ],
      "text/plain": [
       "               id        date      price  bedrooms  bathrooms  sqft_living  \\\n",
       "0      7129300520  10/13/2014   221900.0         3       1.00         1180   \n",
       "1      6414100192   12/9/2014   538000.0         3       2.25         2570   \n",
       "3      2487200875   12/9/2014   604000.0         4       3.00         1960   \n",
       "4      1954400510   2/18/2015   510000.0         3       2.00         1680   \n",
       "5      7237550310   5/12/2014  1230000.0         4       4.50         5420   \n",
       "...           ...         ...        ...       ...        ...          ...   \n",
       "21592   263000018   5/21/2014   360000.0         3       2.50         1530   \n",
       "21593  6600060120   2/23/2015   400000.0         4       2.50         2310   \n",
       "21594  1523300141   6/23/2014   402101.0         2       0.75         1020   \n",
       "21595   291310100   1/16/2015   400000.0         3       2.50         1600   \n",
       "21596  1523300157  10/15/2014   325000.0         2       0.75         1020   \n",
       "\n",
       "       sqft_lot  floors  waterfront  view  ... 98168 98177  98178  98188  \\\n",
       "0          5650     1.0           0   0.0  ...   0.0   0.0    1.0    0.0   \n",
       "1          7242     2.0           0   0.0  ...   0.0   0.0    0.0    0.0   \n",
       "3          5000     1.0           0   0.0  ...   0.0   0.0    0.0    0.0   \n",
       "4          8080     1.0           0   0.0  ...   0.0   0.0    0.0    0.0   \n",
       "5        101930     1.0           0   0.0  ...   0.0   0.0    0.0    0.0   \n",
       "...         ...     ...         ...   ...  ...   ...   ...    ...    ...   \n",
       "21592      1131     3.0           0   0.0  ...   0.0   0.0    0.0    0.0   \n",
       "21593      5813     2.0           0   0.0  ...   0.0   0.0    0.0    0.0   \n",
       "21594      1350     2.0           0   0.0  ...   0.0   0.0    0.0    0.0   \n",
       "21595      2388     2.0           0   0.0  ...   0.0   0.0    0.0    0.0   \n",
       "21596      1076     2.0           0   0.0  ...   0.0   0.0    0.0    0.0   \n",
       "\n",
       "       98198  98199  bedrooms_cat  bathrooms_cat  floors_cat  grade_num_cat  \n",
       "0        0.0    0.0           2.0            2.0         0.0            3.0  \n",
       "1        0.0    0.0           2.0            7.0         2.0            3.0  \n",
       "3        0.0    0.0           3.0           10.0         0.0            3.0  \n",
       "4        0.0    0.0           2.0            6.0         0.0            4.0  \n",
       "5        0.0    0.0           3.0           16.0         0.0            7.0  \n",
       "...      ...    ...           ...            ...         ...            ...  \n",
       "21592    0.0    0.0           2.0            8.0         4.0            4.0  \n",
       "21593    0.0    0.0           3.0            8.0         2.0            4.0  \n",
       "21594    0.0    0.0           1.0            1.0         2.0            3.0  \n",
       "21595    0.0    0.0           2.0            8.0         2.0            4.0  \n",
       "21596    0.0    0.0           1.0            1.0         2.0            3.0  \n",
       "\n",
       "[20351 rows x 98 columns]"
      ]
     },
     "execution_count": 16,
     "metadata": {},
     "output_type": "execute_result"
    }
   ],
   "source": [
    "ord_enc = OrdinalEncoder()\n",
    "ord_enc_f_t = ord_enc.fit_transform(df[['bedrooms','bathrooms','floors','grade_num']])\n",
    "ord_enc_df = pd.DataFrame(ord_enc_f_t, columns = ['bedrooms_cat','bathrooms_cat','floors_cat','grade_num_cat'], index=df.index)\n",
    "\n",
    "df_ord = pd.concat([df_original, ord_enc_df], axis=1)\n",
    "\n",
    "\n",
    "df_ord"
   ]
  },
  {
   "cell_type": "markdown",
   "metadata": {},
   "source": [
    "These cells encodes the zipcode data, and creates a variable of strings to use as column names later.\n",
    "\n",
    "Additionally, it processes a number of variables (bedrooms, bathrooms, floors and grade) into ordinal categorical data. \n",
    "\n",
    "With this, basic preprocessing is done."
   ]
  },
  {
   "cell_type": "markdown",
   "metadata": {},
   "source": [
    "### Spliting the data into testing and training sets"
   ]
  },
  {
   "cell_type": "code",
   "execution_count": 17,
   "metadata": {},
   "outputs": [
    {
     "data": {
      "text/html": [
       "<div>\n",
       "<style scoped>\n",
       "    .dataframe tbody tr th:only-of-type {\n",
       "        vertical-align: middle;\n",
       "    }\n",
       "\n",
       "    .dataframe tbody tr th {\n",
       "        vertical-align: top;\n",
       "    }\n",
       "\n",
       "    .dataframe thead th {\n",
       "        text-align: right;\n",
       "    }\n",
       "</style>\n",
       "<table border=\"1\" class=\"dataframe\">\n",
       "  <thead>\n",
       "    <tr style=\"text-align: right;\">\n",
       "      <th></th>\n",
       "      <th>price</th>\n",
       "      <th>sqft_living</th>\n",
       "      <th>sqft_lot</th>\n",
       "      <th>waterfront</th>\n",
       "      <th>view</th>\n",
       "      <th>sqft_above</th>\n",
       "      <th>sqft_basement</th>\n",
       "      <th>sqft_living15</th>\n",
       "      <th>sqft_lot15</th>\n",
       "      <th>98001</th>\n",
       "      <th>...</th>\n",
       "      <th>98168</th>\n",
       "      <th>98177</th>\n",
       "      <th>98178</th>\n",
       "      <th>98188</th>\n",
       "      <th>98198</th>\n",
       "      <th>98199</th>\n",
       "      <th>bedrooms_cat</th>\n",
       "      <th>bathrooms_cat</th>\n",
       "      <th>floors_cat</th>\n",
       "      <th>grade_num_cat</th>\n",
       "    </tr>\n",
       "  </thead>\n",
       "  <tbody>\n",
       "    <tr>\n",
       "      <th>0</th>\n",
       "      <td>221900.0</td>\n",
       "      <td>1180</td>\n",
       "      <td>5650</td>\n",
       "      <td>0</td>\n",
       "      <td>0.0</td>\n",
       "      <td>1180</td>\n",
       "      <td>0.0</td>\n",
       "      <td>1340</td>\n",
       "      <td>5650</td>\n",
       "      <td>0.0</td>\n",
       "      <td>...</td>\n",
       "      <td>0.0</td>\n",
       "      <td>0.0</td>\n",
       "      <td>1.0</td>\n",
       "      <td>0.0</td>\n",
       "      <td>0.0</td>\n",
       "      <td>0.0</td>\n",
       "      <td>2.0</td>\n",
       "      <td>2.0</td>\n",
       "      <td>0.0</td>\n",
       "      <td>3.0</td>\n",
       "    </tr>\n",
       "    <tr>\n",
       "      <th>1</th>\n",
       "      <td>538000.0</td>\n",
       "      <td>2570</td>\n",
       "      <td>7242</td>\n",
       "      <td>0</td>\n",
       "      <td>0.0</td>\n",
       "      <td>2170</td>\n",
       "      <td>400.0</td>\n",
       "      <td>1690</td>\n",
       "      <td>7639</td>\n",
       "      <td>0.0</td>\n",
       "      <td>...</td>\n",
       "      <td>0.0</td>\n",
       "      <td>0.0</td>\n",
       "      <td>0.0</td>\n",
       "      <td>0.0</td>\n",
       "      <td>0.0</td>\n",
       "      <td>0.0</td>\n",
       "      <td>2.0</td>\n",
       "      <td>7.0</td>\n",
       "      <td>2.0</td>\n",
       "      <td>3.0</td>\n",
       "    </tr>\n",
       "    <tr>\n",
       "      <th>3</th>\n",
       "      <td>604000.0</td>\n",
       "      <td>1960</td>\n",
       "      <td>5000</td>\n",
       "      <td>0</td>\n",
       "      <td>0.0</td>\n",
       "      <td>1050</td>\n",
       "      <td>910.0</td>\n",
       "      <td>1360</td>\n",
       "      <td>5000</td>\n",
       "      <td>0.0</td>\n",
       "      <td>...</td>\n",
       "      <td>0.0</td>\n",
       "      <td>0.0</td>\n",
       "      <td>0.0</td>\n",
       "      <td>0.0</td>\n",
       "      <td>0.0</td>\n",
       "      <td>0.0</td>\n",
       "      <td>3.0</td>\n",
       "      <td>10.0</td>\n",
       "      <td>0.0</td>\n",
       "      <td>3.0</td>\n",
       "    </tr>\n",
       "    <tr>\n",
       "      <th>4</th>\n",
       "      <td>510000.0</td>\n",
       "      <td>1680</td>\n",
       "      <td>8080</td>\n",
       "      <td>0</td>\n",
       "      <td>0.0</td>\n",
       "      <td>1680</td>\n",
       "      <td>0.0</td>\n",
       "      <td>1800</td>\n",
       "      <td>7503</td>\n",
       "      <td>0.0</td>\n",
       "      <td>...</td>\n",
       "      <td>0.0</td>\n",
       "      <td>0.0</td>\n",
       "      <td>0.0</td>\n",
       "      <td>0.0</td>\n",
       "      <td>0.0</td>\n",
       "      <td>0.0</td>\n",
       "      <td>2.0</td>\n",
       "      <td>6.0</td>\n",
       "      <td>0.0</td>\n",
       "      <td>4.0</td>\n",
       "    </tr>\n",
       "    <tr>\n",
       "      <th>5</th>\n",
       "      <td>1230000.0</td>\n",
       "      <td>5420</td>\n",
       "      <td>101930</td>\n",
       "      <td>0</td>\n",
       "      <td>0.0</td>\n",
       "      <td>3890</td>\n",
       "      <td>1530.0</td>\n",
       "      <td>4760</td>\n",
       "      <td>101930</td>\n",
       "      <td>0.0</td>\n",
       "      <td>...</td>\n",
       "      <td>0.0</td>\n",
       "      <td>0.0</td>\n",
       "      <td>0.0</td>\n",
       "      <td>0.0</td>\n",
       "      <td>0.0</td>\n",
       "      <td>0.0</td>\n",
       "      <td>3.0</td>\n",
       "      <td>16.0</td>\n",
       "      <td>0.0</td>\n",
       "      <td>7.0</td>\n",
       "    </tr>\n",
       "    <tr>\n",
       "      <th>...</th>\n",
       "      <td>...</td>\n",
       "      <td>...</td>\n",
       "      <td>...</td>\n",
       "      <td>...</td>\n",
       "      <td>...</td>\n",
       "      <td>...</td>\n",
       "      <td>...</td>\n",
       "      <td>...</td>\n",
       "      <td>...</td>\n",
       "      <td>...</td>\n",
       "      <td>...</td>\n",
       "      <td>...</td>\n",
       "      <td>...</td>\n",
       "      <td>...</td>\n",
       "      <td>...</td>\n",
       "      <td>...</td>\n",
       "      <td>...</td>\n",
       "      <td>...</td>\n",
       "      <td>...</td>\n",
       "      <td>...</td>\n",
       "      <td>...</td>\n",
       "    </tr>\n",
       "    <tr>\n",
       "      <th>21592</th>\n",
       "      <td>360000.0</td>\n",
       "      <td>1530</td>\n",
       "      <td>1131</td>\n",
       "      <td>0</td>\n",
       "      <td>0.0</td>\n",
       "      <td>1530</td>\n",
       "      <td>0.0</td>\n",
       "      <td>1530</td>\n",
       "      <td>1509</td>\n",
       "      <td>0.0</td>\n",
       "      <td>...</td>\n",
       "      <td>0.0</td>\n",
       "      <td>0.0</td>\n",
       "      <td>0.0</td>\n",
       "      <td>0.0</td>\n",
       "      <td>0.0</td>\n",
       "      <td>0.0</td>\n",
       "      <td>2.0</td>\n",
       "      <td>8.0</td>\n",
       "      <td>4.0</td>\n",
       "      <td>4.0</td>\n",
       "    </tr>\n",
       "    <tr>\n",
       "      <th>21593</th>\n",
       "      <td>400000.0</td>\n",
       "      <td>2310</td>\n",
       "      <td>5813</td>\n",
       "      <td>0</td>\n",
       "      <td>0.0</td>\n",
       "      <td>2310</td>\n",
       "      <td>0.0</td>\n",
       "      <td>1830</td>\n",
       "      <td>7200</td>\n",
       "      <td>0.0</td>\n",
       "      <td>...</td>\n",
       "      <td>0.0</td>\n",
       "      <td>0.0</td>\n",
       "      <td>0.0</td>\n",
       "      <td>0.0</td>\n",
       "      <td>0.0</td>\n",
       "      <td>0.0</td>\n",
       "      <td>3.0</td>\n",
       "      <td>8.0</td>\n",
       "      <td>2.0</td>\n",
       "      <td>4.0</td>\n",
       "    </tr>\n",
       "    <tr>\n",
       "      <th>21594</th>\n",
       "      <td>402101.0</td>\n",
       "      <td>1020</td>\n",
       "      <td>1350</td>\n",
       "      <td>0</td>\n",
       "      <td>0.0</td>\n",
       "      <td>1020</td>\n",
       "      <td>0.0</td>\n",
       "      <td>1020</td>\n",
       "      <td>2007</td>\n",
       "      <td>0.0</td>\n",
       "      <td>...</td>\n",
       "      <td>0.0</td>\n",
       "      <td>0.0</td>\n",
       "      <td>0.0</td>\n",
       "      <td>0.0</td>\n",
       "      <td>0.0</td>\n",
       "      <td>0.0</td>\n",
       "      <td>1.0</td>\n",
       "      <td>1.0</td>\n",
       "      <td>2.0</td>\n",
       "      <td>3.0</td>\n",
       "    </tr>\n",
       "    <tr>\n",
       "      <th>21595</th>\n",
       "      <td>400000.0</td>\n",
       "      <td>1600</td>\n",
       "      <td>2388</td>\n",
       "      <td>0</td>\n",
       "      <td>0.0</td>\n",
       "      <td>1600</td>\n",
       "      <td>0.0</td>\n",
       "      <td>1410</td>\n",
       "      <td>1287</td>\n",
       "      <td>0.0</td>\n",
       "      <td>...</td>\n",
       "      <td>0.0</td>\n",
       "      <td>0.0</td>\n",
       "      <td>0.0</td>\n",
       "      <td>0.0</td>\n",
       "      <td>0.0</td>\n",
       "      <td>0.0</td>\n",
       "      <td>2.0</td>\n",
       "      <td>8.0</td>\n",
       "      <td>2.0</td>\n",
       "      <td>4.0</td>\n",
       "    </tr>\n",
       "    <tr>\n",
       "      <th>21596</th>\n",
       "      <td>325000.0</td>\n",
       "      <td>1020</td>\n",
       "      <td>1076</td>\n",
       "      <td>0</td>\n",
       "      <td>0.0</td>\n",
       "      <td>1020</td>\n",
       "      <td>0.0</td>\n",
       "      <td>1020</td>\n",
       "      <td>1357</td>\n",
       "      <td>0.0</td>\n",
       "      <td>...</td>\n",
       "      <td>0.0</td>\n",
       "      <td>0.0</td>\n",
       "      <td>0.0</td>\n",
       "      <td>0.0</td>\n",
       "      <td>0.0</td>\n",
       "      <td>0.0</td>\n",
       "      <td>1.0</td>\n",
       "      <td>1.0</td>\n",
       "      <td>2.0</td>\n",
       "      <td>3.0</td>\n",
       "    </tr>\n",
       "  </tbody>\n",
       "</table>\n",
       "<p>20351 rows × 83 columns</p>\n",
       "</div>"
      ],
      "text/plain": [
       "           price  sqft_living  sqft_lot  waterfront  view  sqft_above  \\\n",
       "0       221900.0         1180      5650           0   0.0        1180   \n",
       "1       538000.0         2570      7242           0   0.0        2170   \n",
       "3       604000.0         1960      5000           0   0.0        1050   \n",
       "4       510000.0         1680      8080           0   0.0        1680   \n",
       "5      1230000.0         5420    101930           0   0.0        3890   \n",
       "...          ...          ...       ...         ...   ...         ...   \n",
       "21592   360000.0         1530      1131           0   0.0        1530   \n",
       "21593   400000.0         2310      5813           0   0.0        2310   \n",
       "21594   402101.0         1020      1350           0   0.0        1020   \n",
       "21595   400000.0         1600      2388           0   0.0        1600   \n",
       "21596   325000.0         1020      1076           0   0.0        1020   \n",
       "\n",
       "       sqft_basement  sqft_living15  sqft_lot15  98001  ...  98168  98177  \\\n",
       "0                0.0           1340        5650    0.0  ...    0.0    0.0   \n",
       "1              400.0           1690        7639    0.0  ...    0.0    0.0   \n",
       "3              910.0           1360        5000    0.0  ...    0.0    0.0   \n",
       "4                0.0           1800        7503    0.0  ...    0.0    0.0   \n",
       "5             1530.0           4760      101930    0.0  ...    0.0    0.0   \n",
       "...              ...            ...         ...    ...  ...    ...    ...   \n",
       "21592            0.0           1530        1509    0.0  ...    0.0    0.0   \n",
       "21593            0.0           1830        7200    0.0  ...    0.0    0.0   \n",
       "21594            0.0           1020        2007    0.0  ...    0.0    0.0   \n",
       "21595            0.0           1410        1287    0.0  ...    0.0    0.0   \n",
       "21596            0.0           1020        1357    0.0  ...    0.0    0.0   \n",
       "\n",
       "       98178  98188  98198  98199  bedrooms_cat  bathrooms_cat  floors_cat  \\\n",
       "0        1.0    0.0    0.0    0.0           2.0            2.0         0.0   \n",
       "1        0.0    0.0    0.0    0.0           2.0            7.0         2.0   \n",
       "3        0.0    0.0    0.0    0.0           3.0           10.0         0.0   \n",
       "4        0.0    0.0    0.0    0.0           2.0            6.0         0.0   \n",
       "5        0.0    0.0    0.0    0.0           3.0           16.0         0.0   \n",
       "...      ...    ...    ...    ...           ...            ...         ...   \n",
       "21592    0.0    0.0    0.0    0.0           2.0            8.0         4.0   \n",
       "21593    0.0    0.0    0.0    0.0           3.0            8.0         2.0   \n",
       "21594    0.0    0.0    0.0    0.0           1.0            1.0         2.0   \n",
       "21595    0.0    0.0    0.0    0.0           2.0            8.0         2.0   \n",
       "21596    0.0    0.0    0.0    0.0           1.0            1.0         2.0   \n",
       "\n",
       "       grade_num_cat  \n",
       "0                3.0  \n",
       "1                3.0  \n",
       "3                3.0  \n",
       "4                4.0  \n",
       "5                7.0  \n",
       "...              ...  \n",
       "21592            4.0  \n",
       "21593            4.0  \n",
       "21594            3.0  \n",
       "21595            4.0  \n",
       "21596            3.0  \n",
       "\n",
       "[20351 rows x 83 columns]"
      ]
     },
     "execution_count": 17,
     "metadata": {},
     "output_type": "execute_result"
    }
   ],
   "source": [
    "X = df_ord.drop(columns = ['id','date','lat','long','sqft_living_ratio','sqft_lot_ratio','condition','yr_built','yr_renovated','grade','zipcode','bedrooms','bathrooms','grade_num','floors'])\n",
    "X\n"
   ]
  },
  {
   "cell_type": "markdown",
   "metadata": {},
   "source": [
    "### The baseline model\n",
    "\n"
   ]
  },
  {
   "cell_type": "code",
   "execution_count": 18,
   "metadata": {},
   "outputs": [
    {
     "name": "stdout",
     "output_type": "stream",
     "text": [
      "\n",
      "Baseline Model Train Score: 0.0\n",
      "Baseline Model Train RMSE: 330162.0\n",
      "\n",
      "Baseline Model Test Score: -0.00019223859420502976\n",
      "Baseline Model Test RMSE: 326897.0\n"
     ]
    }
   ],
   "source": [
    "X_train, X_test, y_train, y_test = train_test_split(X.drop(columns='price'),X.price, test_size = .25, random_state = 420)\n",
    "\n",
    "training_data = pd.concat([X_train,y_train], axis = 1)\n",
    "testing_data = pd.concat([X_test,y_test], axis = 1)\n",
    "\n",
    "dummy_regr = DummyRegressor(strategy = 'mean')\n",
    "dummy_regr.fit(X_train,y_train)\n",
    "dummy_regr.predict(X_train)\n",
    "dummy_regr.predict(X_test)\n",
    "dummy_regr.score(X_train, y_train)\n",
    "dummy_regr.score(X_test, y_test)\n",
    "dummy_train_RMSE = MSE(y_train,dummy_regr.predict(X_train),squared = False)\n",
    "dummy_test_RMSE = MSE(y_test,dummy_regr.predict(X_test), squared = False)\n",
    "\n",
    "print()\n",
    "print(f'Baseline Model Train Score: {dummy_regr.score(X_train, y_train)}')\n",
    "print(f'Baseline Model Train RMSE: {round(dummy_train_RMSE)}')\n",
    "print()\n",
    "print(f'Baseline Model Test Score: {dummy_regr.score(X_test, y_test)}')\n",
    "print(f'Baseline Model Test RMSE: {round(dummy_test_RMSE)}')"
   ]
  },
  {
   "cell_type": "markdown",
   "metadata": {},
   "source": [
    "### Our First Simple Model\n",
    "\n",
    "The baseline model we chose to use was a simple model using the information we grabbed from the correlation heatmap, namely that price's highest correlated variable was livable square feet."
   ]
  },
  {
   "cell_type": "code",
   "execution_count": 19,
   "metadata": {},
   "outputs": [
    {
     "name": "stdout",
     "output_type": "stream",
     "text": [
      "Simple Model Train score: 0.4637452114223612\n",
      "Simple Model Train RMSE: 240887.0\n",
      "Simple Model Train Condition Number: 5698.917237705737\n",
      "\n",
      "Simple Model Test score:  0.4687208425102187\n",
      "Simple Model Test RMSE: 240877.0\n"
     ]
    }
   ],
   "source": [
    "X_train_simple_model = X_train[['sqft_living']]\n",
    "X_test_simple_model = X_test[['sqft_living']]\n",
    "\n",
    "splitter = ShuffleSplit(n_splits=3, test_size=0.25, random_state=420)\n",
    "\n",
    "simple_model = LinearRegression()\n",
    "simple_model.fit(X_train_simple_model,y_train)\n",
    "\n",
    "simple_model_scores = cross_validate(\n",
    "    estimator=simple_model,\n",
    "    X=df_ord[['sqft_living']],\n",
    "    y=df_ord.price,\n",
    "    return_train_score=True,\n",
    "    cv=splitter\n",
    ")\n",
    "\n",
    "simple_predict_train = simple_model.predict(X_train_simple_model)\n",
    "simple_predict_test = simple_model.predict(X_test_simple_model)\n",
    "\n",
    "simple_train_RMSE = MSE(y_train,simple_predict_train,squared = False)\n",
    "simple_test_RMSE = MSE(y_test,simple_predict_test, squared = False)\n",
    "\n",
    "simple_condition_num = sm.OLS(y_train, sm.add_constant(X_train_simple_model)).fit().condition_number\n",
    "\n",
    "print(f'Simple Model Train score: {simple_model_scores[\"train_score\"].mean()}')\n",
    "print(f'Simple Model Train RMSE: {round(simple_train_RMSE)}')\n",
    "print(f'Simple Model Train Condition Number: {simple_condition_num}')\n",
    "print()\n",
    "print(\"Simple Model Test score: \", simple_model_scores[\"test_score\"].mean())\n",
    "print(f'Simple Model Test RMSE: {round(simple_test_RMSE)}')"
   ]
  },
  {
   "cell_type": "markdown",
   "metadata": {},
   "source": [
    "As we can see, the R-squared score isn't great. "
   ]
  },
  {
   "cell_type": "markdown",
   "metadata": {},
   "source": [
    "### The next model, adding in some basic construction facets"
   ]
  },
  {
   "cell_type": "code",
   "execution_count": 20,
   "metadata": {},
   "outputs": [
    {
     "name": "stdout",
     "output_type": "stream",
     "text": [
      "Third Model Train score: 0.4789978801719577\n",
      "Third Model Train RMSE: 237474.0\n",
      "\n",
      "Third Model Train Condition Number: 7018.405848296658\n",
      "\n",
      "Third Model Test score:  0.48430839882315874\n",
      "Third Model Test RMSE: 237201.0\n"
     ]
    }
   ],
   "source": [
    "X_train_third_model = X_train[['sqft_living','bedrooms_cat','bathrooms_cat']]\n",
    "X_test_third_model = X_test[['sqft_living','bedrooms_cat','bathrooms_cat']]\n",
    "\n",
    "splitter = ShuffleSplit(n_splits=3, test_size=0.25, random_state=420)\n",
    "\n",
    "third_model = LinearRegression()\n",
    "third_model.fit(X_train_third_model,y_train)\n",
    "\n",
    "third_model_scores = cross_validate(\n",
    "    estimator=simple_model,\n",
    "    X=df_ord[['sqft_living','bedrooms_cat','bathrooms_cat']],\n",
    "    y=df_ord.price,\n",
    "    return_train_score=True,\n",
    "    cv=splitter\n",
    ")\n",
    "\n",
    "third_predict_train = third_model.predict(X_train_third_model)\n",
    "third_predict_test = third_model.predict(X_test_third_model)\n",
    "\n",
    "third_train_RMSE = MSE(y_train,third_predict_train,squared = False)\n",
    "third_test_RMSE = MSE(y_test,third_predict_test, squared = False)\n",
    "\n",
    "third_condition_num = sm.OLS(y_train, sm.add_constant(X_train_third_model)).fit().condition_number\n",
    "\n",
    "print(f'Third Model Train score: {third_model_scores[\"train_score\"].mean()}')\n",
    "print(f'Third Model Train RMSE: {round(third_train_RMSE)}')\n",
    "print()\n",
    "print(f'Third Model Train Condition Number: {third_condition_num}')\n",
    "print()\n",
    "print(\"Third Model Test score: \", third_model_scores[\"test_score\"].mean())\n",
    "print(f'Third Model Test RMSE: {round(third_test_RMSE)}')"
   ]
  },
  {
   "cell_type": "markdown",
   "metadata": {},
   "source": [
    "This model performs only slightly better than the model that only looks at 'sqft_living', while also increasing our condition number. Clearly we need to pull in some other factors."
   ]
  },
  {
   "cell_type": "markdown",
   "metadata": {},
   "source": [
    "### Model Four, bringing in all the data!"
   ]
  },
  {
   "cell_type": "code",
   "execution_count": 21,
   "metadata": {
    "scrolled": true
   },
   "outputs": [
    {
     "name": "stdout",
     "output_type": "stream",
     "text": [
      "Fourth Model Train score: 0.8125932015955007\n",
      "Fourth Model Train RMSE: 142884.0\n",
      "\n",
      "Fourth Model Train Condition Number: 3.591571245437767e+20\n",
      "\n",
      "Fourth Model Test score:  0.8137391296804863\n",
      "fourth Model Test RMSE: 141256.0\n"
     ]
    }
   ],
   "source": [
    "X_train_fourth_model = X_train\n",
    "X_test_fourth_model = X_test\n",
    "\n",
    "splitter = ShuffleSplit(n_splits=3, test_size=0.25, random_state=420)\n",
    "\n",
    "fourth_model = LinearRegression()\n",
    "fourth_model.fit(X_train_fourth_model,y_train)\n",
    "\n",
    "fourth_model_scores = cross_validate(\n",
    "    estimator=simple_model,\n",
    "    X=X.drop(columns = 'price'),\n",
    "    y=X.price,\n",
    "    return_train_score=True,\n",
    "    cv=splitter\n",
    ")\n",
    "\n",
    "fourth_predict_train = fourth_model.predict(X_train_fourth_model)\n",
    "fourth_predict_test = fourth_model.predict(X_test_fourth_model)\n",
    "\n",
    "fourth_train_RMSE = MSE(y_train,fourth_predict_train,squared = False)\n",
    "fourth_test_RMSE = MSE(y_test,fourth_predict_test, squared = False)\n",
    "\n",
    "fourth_condition_num = sm.OLS(y_train, sm.add_constant(X_train_fourth_model)).fit().condition_number\n",
    "\n",
    "print(f'Fourth Model Train score: {fourth_model_scores[\"train_score\"].mean()}')\n",
    "print(f'Fourth Model Train RMSE: {round(fourth_train_RMSE)}')\n",
    "print()\n",
    "print(f'Fourth Model Train Condition Number: {fourth_condition_num}')\n",
    "print()\n",
    "print(\"Fourth Model Test score: \", fourth_model_scores[\"test_score\"].mean())\n",
    "print(f'fourth Model Test RMSE: {round(fourth_test_RMSE)}')"
   ]
  },
  {
   "cell_type": "markdown",
   "metadata": {},
   "source": [
    "By r-squared and RMSE we've brought the error way down. However, our condition number has increased dramatically. \n",
    "\n",
    "Our model seems to work well for houses under 1.5 million dollars. However, after that point, our model undervalues the price of homes. All the data above the line is homes undervalued by our model, while the data below it is over valued by our model."
   ]
  },
  {
   "cell_type": "code",
   "execution_count": 74,
   "metadata": {
    "jupyter": {
     "source_hidden": true
    }
   },
   "outputs": [
    {
     "data": {
      "image/png": "[encoded data removed]",
      "text/plain": [
       "<Figure size 576x864 with 1 Axes>"
      ]
     },
     "metadata": {
      "needs_background": "light"
     },
     "output_type": "display_data"
    }
   ],
   "source": [
    "fig, ax = plt.subplots(figsize = (8,12))\n",
    "\n",
    "fourth_reg_residuals = fourth_predict_test - y_test\n",
    "sns.scatterplot(x = fourth_predict_test, y = y_test, ax=ax)\n",
    "ax.set_title('Regression Residuals for Price of Homes in King County')\n",
    "ax.set_xlabel('Estimated Price of Home')\n",
    "ax.set_ylabel('Actual Price of Home')\n",
    "x,y = [range(0,2500000,500000)],[range(0,2500000,500000)]\n",
    "plt.axline((0,0),(2500000,2500000), color = 'red')\n",
    "plt.show()"
   ]
  },
  {
   "cell_type": "code",
   "execution_count": 136,
   "metadata": {},
   "outputs": [
    {
     "data": {
      "text/plain": [
       "[98178,\n",
       " 98106,\n",
       " 98108,\n",
       " 98146,\n",
       " 98133,\n",
       " 98118,\n",
       " 98126,\n",
       " 98125,\n",
       " 98136,\n",
       " 98107,\n",
       " 98117,\n",
       " 98103,\n",
       " 98144,\n",
       " 98116,\n",
       " 98115,\n",
       " 98122,\n",
       " 98177,\n",
       " 98199,\n",
       " 98119,\n",
       " 98102,\n",
       " 98109,\n",
       " 98105]"
      ]
     },
     "execution_count": 136,
     "metadata": {},
     "output_type": "execute_result"
    }
   ],
   "source": [
    "coefficients = pd.DataFrame(fourth_model.coef_,X_train_fourth_model.columns, columns=['Coefficients'])\n",
    "zipcodes_price = df.groupby('zipcode').agg('mean').sort_values('price')\n",
    "zipcodes_price = zipcodes_price[['price','in_Seattle']]\n",
    "zipcodes_price = zipcodes_price.sort_values(['in_Seattle','price'],ascending = [False,True])[:22]\n",
    "zipcodes_price.index.tolist()"
   ]
  },
  {
   "cell_type": "code",
   "execution_count": 23,
   "metadata": {},
   "outputs": [
    {
     "data": {
      "text/plain": [
       "array([1, 1, 1, 1, 1, 3, 1, 2, 1, 1, 1, 1, 1, 1, 1, 1, 1, 1, 1, 1, 1, 1,\n",
       "       1, 1, 1, 1, 1, 1, 1, 1, 1, 1, 1, 1, 1, 1, 1, 1, 1, 1, 1, 1, 1, 1,\n",
       "       1, 1, 1, 1, 1, 1, 1, 1, 1, 1, 1, 1, 1, 1, 1, 1, 1, 1, 1, 1, 1, 1,\n",
       "       1, 1, 1, 1, 1, 1, 1, 1, 1, 1, 1, 1, 1, 1, 1, 1])"
      ]
     },
     "execution_count": 23,
     "metadata": {},
     "output_type": "execute_result"
    }
   ],
   "source": [
    "X_train_for_RFECV = StandardScaler().fit_transform(X_train)\n",
    "model_for_RFECV = LinearRegression()\n",
    "\n",
    "# Instantiate and fit the selector\n",
    "selector = RFECV(model_for_RFECV, cv=splitter)\n",
    "selector.fit(X_train_for_RFECV, y_train)\n",
    "selector.ranking_"
   ]
  },
  {
   "cell_type": "code",
   "execution_count": 24,
   "metadata": {},
   "outputs": [],
   "source": [
    "Seattle_zipcodes = [98101, 98102, 98103, 98104, 98105, \n",
    "                    98106, 98107, 98108, 98109, 98112, \n",
    "                    98115, 98116, 98117, 98118, 98119, \n",
    "                    98121, 98122, 98125, 98126, 98133, \n",
    "                    98134, 98136, 98144, 98146, 98154, \n",
    "                    98164, 98174, 98177, 98178, 98195, \n",
    "                    98199 ]\n",
    "\n",
    "df['in_Seattle'] = np.where(df['zipcode'].isin(Seattle_zipcodes),1,0)\n"
   ]
  },
  {
   "cell_type": "code",
   "execution_count": 25,
   "metadata": {},
   "outputs": [],
   "source": [
    "X_with_in_sea =  pd.concat([X, df['in_Seattle']], axis = 1)\n",
    "for i in zipliststr:\n",
    "    X_with_in_sea.drop(columns = int(i), inplace = True)"
   ]
  },
  {
   "cell_type": "code",
   "execution_count": 26,
   "metadata": {},
   "outputs": [
    {
     "data": {
      "text/html": [
       "<div>\n",
       "<style scoped>\n",
       "    .dataframe tbody tr th:only-of-type {\n",
       "        vertical-align: middle;\n",
       "    }\n",
       "\n",
       "    .dataframe tbody tr th {\n",
       "        vertical-align: top;\n",
       "    }\n",
       "\n",
       "    .dataframe thead th {\n",
       "        text-align: right;\n",
       "    }\n",
       "</style>\n",
       "<table border=\"1\" class=\"dataframe\">\n",
       "  <thead>\n",
       "    <tr style=\"text-align: right;\">\n",
       "      <th></th>\n",
       "      <th>price</th>\n",
       "      <th>sqft_living</th>\n",
       "      <th>sqft_lot</th>\n",
       "      <th>waterfront</th>\n",
       "      <th>view</th>\n",
       "      <th>sqft_above</th>\n",
       "      <th>sqft_basement</th>\n",
       "      <th>sqft_living15</th>\n",
       "      <th>sqft_lot15</th>\n",
       "      <th>bedrooms_cat</th>\n",
       "      <th>bathrooms_cat</th>\n",
       "      <th>floors_cat</th>\n",
       "      <th>grade_num_cat</th>\n",
       "      <th>in_Seattle</th>\n",
       "    </tr>\n",
       "  </thead>\n",
       "  <tbody>\n",
       "    <tr>\n",
       "      <th>0</th>\n",
       "      <td>221900.0</td>\n",
       "      <td>1180</td>\n",
       "      <td>5650</td>\n",
       "      <td>0</td>\n",
       "      <td>0.0</td>\n",
       "      <td>1180</td>\n",
       "      <td>0.0</td>\n",
       "      <td>1340</td>\n",
       "      <td>5650</td>\n",
       "      <td>2.0</td>\n",
       "      <td>2.0</td>\n",
       "      <td>0.0</td>\n",
       "      <td>3.0</td>\n",
       "      <td>1</td>\n",
       "    </tr>\n",
       "    <tr>\n",
       "      <th>1</th>\n",
       "      <td>538000.0</td>\n",
       "      <td>2570</td>\n",
       "      <td>7242</td>\n",
       "      <td>0</td>\n",
       "      <td>0.0</td>\n",
       "      <td>2170</td>\n",
       "      <td>400.0</td>\n",
       "      <td>1690</td>\n",
       "      <td>7639</td>\n",
       "      <td>2.0</td>\n",
       "      <td>7.0</td>\n",
       "      <td>2.0</td>\n",
       "      <td>3.0</td>\n",
       "      <td>1</td>\n",
       "    </tr>\n",
       "    <tr>\n",
       "      <th>3</th>\n",
       "      <td>604000.0</td>\n",
       "      <td>1960</td>\n",
       "      <td>5000</td>\n",
       "      <td>0</td>\n",
       "      <td>0.0</td>\n",
       "      <td>1050</td>\n",
       "      <td>910.0</td>\n",
       "      <td>1360</td>\n",
       "      <td>5000</td>\n",
       "      <td>3.0</td>\n",
       "      <td>10.0</td>\n",
       "      <td>0.0</td>\n",
       "      <td>3.0</td>\n",
       "      <td>1</td>\n",
       "    </tr>\n",
       "    <tr>\n",
       "      <th>4</th>\n",
       "      <td>510000.0</td>\n",
       "      <td>1680</td>\n",
       "      <td>8080</td>\n",
       "      <td>0</td>\n",
       "      <td>0.0</td>\n",
       "      <td>1680</td>\n",
       "      <td>0.0</td>\n",
       "      <td>1800</td>\n",
       "      <td>7503</td>\n",
       "      <td>2.0</td>\n",
       "      <td>6.0</td>\n",
       "      <td>0.0</td>\n",
       "      <td>4.0</td>\n",
       "      <td>0</td>\n",
       "    </tr>\n",
       "    <tr>\n",
       "      <th>5</th>\n",
       "      <td>1230000.0</td>\n",
       "      <td>5420</td>\n",
       "      <td>101930</td>\n",
       "      <td>0</td>\n",
       "      <td>0.0</td>\n",
       "      <td>3890</td>\n",
       "      <td>1530.0</td>\n",
       "      <td>4760</td>\n",
       "      <td>101930</td>\n",
       "      <td>3.0</td>\n",
       "      <td>16.0</td>\n",
       "      <td>0.0</td>\n",
       "      <td>7.0</td>\n",
       "      <td>0</td>\n",
       "    </tr>\n",
       "    <tr>\n",
       "      <th>...</th>\n",
       "      <td>...</td>\n",
       "      <td>...</td>\n",
       "      <td>...</td>\n",
       "      <td>...</td>\n",
       "      <td>...</td>\n",
       "      <td>...</td>\n",
       "      <td>...</td>\n",
       "      <td>...</td>\n",
       "      <td>...</td>\n",
       "      <td>...</td>\n",
       "      <td>...</td>\n",
       "      <td>...</td>\n",
       "      <td>...</td>\n",
       "      <td>...</td>\n",
       "    </tr>\n",
       "    <tr>\n",
       "      <th>21592</th>\n",
       "      <td>360000.0</td>\n",
       "      <td>1530</td>\n",
       "      <td>1131</td>\n",
       "      <td>0</td>\n",
       "      <td>0.0</td>\n",
       "      <td>1530</td>\n",
       "      <td>0.0</td>\n",
       "      <td>1530</td>\n",
       "      <td>1509</td>\n",
       "      <td>2.0</td>\n",
       "      <td>8.0</td>\n",
       "      <td>4.0</td>\n",
       "      <td>4.0</td>\n",
       "      <td>1</td>\n",
       "    </tr>\n",
       "    <tr>\n",
       "      <th>21593</th>\n",
       "      <td>400000.0</td>\n",
       "      <td>2310</td>\n",
       "      <td>5813</td>\n",
       "      <td>0</td>\n",
       "      <td>0.0</td>\n",
       "      <td>2310</td>\n",
       "      <td>0.0</td>\n",
       "      <td>1830</td>\n",
       "      <td>7200</td>\n",
       "      <td>3.0</td>\n",
       "      <td>8.0</td>\n",
       "      <td>2.0</td>\n",
       "      <td>4.0</td>\n",
       "      <td>1</td>\n",
       "    </tr>\n",
       "    <tr>\n",
       "      <th>21594</th>\n",
       "      <td>402101.0</td>\n",
       "      <td>1020</td>\n",
       "      <td>1350</td>\n",
       "      <td>0</td>\n",
       "      <td>0.0</td>\n",
       "      <td>1020</td>\n",
       "      <td>0.0</td>\n",
       "      <td>1020</td>\n",
       "      <td>2007</td>\n",
       "      <td>1.0</td>\n",
       "      <td>1.0</td>\n",
       "      <td>2.0</td>\n",
       "      <td>3.0</td>\n",
       "      <td>1</td>\n",
       "    </tr>\n",
       "    <tr>\n",
       "      <th>21595</th>\n",
       "      <td>400000.0</td>\n",
       "      <td>1600</td>\n",
       "      <td>2388</td>\n",
       "      <td>0</td>\n",
       "      <td>0.0</td>\n",
       "      <td>1600</td>\n",
       "      <td>0.0</td>\n",
       "      <td>1410</td>\n",
       "      <td>1287</td>\n",
       "      <td>2.0</td>\n",
       "      <td>8.0</td>\n",
       "      <td>2.0</td>\n",
       "      <td>4.0</td>\n",
       "      <td>0</td>\n",
       "    </tr>\n",
       "    <tr>\n",
       "      <th>21596</th>\n",
       "      <td>325000.0</td>\n",
       "      <td>1020</td>\n",
       "      <td>1076</td>\n",
       "      <td>0</td>\n",
       "      <td>0.0</td>\n",
       "      <td>1020</td>\n",
       "      <td>0.0</td>\n",
       "      <td>1020</td>\n",
       "      <td>1357</td>\n",
       "      <td>1.0</td>\n",
       "      <td>1.0</td>\n",
       "      <td>2.0</td>\n",
       "      <td>3.0</td>\n",
       "      <td>1</td>\n",
       "    </tr>\n",
       "  </tbody>\n",
       "</table>\n",
       "<p>20351 rows × 14 columns</p>\n",
       "</div>"
      ],
      "text/plain": [
       "           price  sqft_living  sqft_lot  waterfront  view  sqft_above  \\\n",
       "0       221900.0         1180      5650           0   0.0        1180   \n",
       "1       538000.0         2570      7242           0   0.0        2170   \n",
       "3       604000.0         1960      5000           0   0.0        1050   \n",
       "4       510000.0         1680      8080           0   0.0        1680   \n",
       "5      1230000.0         5420    101930           0   0.0        3890   \n",
       "...          ...          ...       ...         ...   ...         ...   \n",
       "21592   360000.0         1530      1131           0   0.0        1530   \n",
       "21593   400000.0         2310      5813           0   0.0        2310   \n",
       "21594   402101.0         1020      1350           0   0.0        1020   \n",
       "21595   400000.0         1600      2388           0   0.0        1600   \n",
       "21596   325000.0         1020      1076           0   0.0        1020   \n",
       "\n",
       "       sqft_basement  sqft_living15  sqft_lot15  bedrooms_cat  bathrooms_cat  \\\n",
       "0                0.0           1340        5650           2.0            2.0   \n",
       "1              400.0           1690        7639           2.0            7.0   \n",
       "3              910.0           1360        5000           3.0           10.0   \n",
       "4                0.0           1800        7503           2.0            6.0   \n",
       "5             1530.0           4760      101930           3.0           16.0   \n",
       "...              ...            ...         ...           ...            ...   \n",
       "21592            0.0           1530        1509           2.0            8.0   \n",
       "21593            0.0           1830        7200           3.0            8.0   \n",
       "21594            0.0           1020        2007           1.0            1.0   \n",
       "21595            0.0           1410        1287           2.0            8.0   \n",
       "21596            0.0           1020        1357           1.0            1.0   \n",
       "\n",
       "       floors_cat  grade_num_cat  in_Seattle  \n",
       "0             0.0            3.0           1  \n",
       "1             2.0            3.0           1  \n",
       "3             0.0            3.0           1  \n",
       "4             0.0            4.0           0  \n",
       "5             0.0            7.0           0  \n",
       "...           ...            ...         ...  \n",
       "21592         4.0            4.0           1  \n",
       "21593         2.0            4.0           1  \n",
       "21594         2.0            3.0           1  \n",
       "21595         2.0            4.0           0  \n",
       "21596         2.0            3.0           1  \n",
       "\n",
       "[20351 rows x 14 columns]"
      ]
     },
     "execution_count": 26,
     "metadata": {},
     "output_type": "execute_result"
    }
   ],
   "source": [
    "X_with_in_sea"
   ]
  },
  {
   "cell_type": "code",
   "execution_count": 27,
   "metadata": {},
   "outputs": [],
   "source": [
    "X_train, X_test, y_train, y_test = train_test_split(X_with_in_sea.drop(columns='price'), X_with_in_sea.price, test_size = .25, random_state = 420)\n",
    "\n",
    "training_data = pd.concat([X_train,y_train], axis = 1)\n",
    "testing_data = pd.concat([X_test,y_test], axis = 1)"
   ]
  },
  {
   "cell_type": "markdown",
   "metadata": {},
   "source": [
    "### Model Five, bringing in 'in Seattle'"
   ]
  },
  {
   "cell_type": "code",
   "execution_count": 28,
   "metadata": {},
   "outputs": [
    {
     "name": "stdout",
     "output_type": "stream",
     "text": [
      "Fifth Model Train score: 0.5355621445893626\n",
      "Fifth Model Train RMSE: 224371.0\n",
      "\n",
      "Fifth Model Train Condition Number: 8126.833255986063\n",
      "\n",
      "Fifth Model Test score:  0.5406215886030902\n",
      "Fifth Model Test RMSE: 223412.0\n"
     ]
    }
   ],
   "source": [
    "X_train_fifth_model = X_train[['sqft_living','bedrooms_cat','bathrooms_cat','in_Seattle']]\n",
    "X_test_fifth_model = X_test[['sqft_living','bedrooms_cat','bathrooms_cat','in_Seattle']]\n",
    "\n",
    "splitter = ShuffleSplit(n_splits=3, test_size=0.25, random_state=420)\n",
    "\n",
    "fifth_model = LinearRegression()\n",
    "fifth_model.fit(X_train_fifth_model,y_train)\n",
    "\n",
    "fifth_model_scores = cross_validate(\n",
    "    estimator=simple_model,\n",
    "    X=X_with_in_sea[['sqft_living','bedrooms_cat','bathrooms_cat','in_Seattle']],\n",
    "    y=X.price,\n",
    "    return_train_score=True,\n",
    "    cv=splitter\n",
    ")\n",
    "\n",
    "fifth_predict_train = fifth_model.predict(X_train_fifth_model)\n",
    "fifth_predict_test = fifth_model.predict(X_test_fifth_model)\n",
    "\n",
    "fifth_train_RMSE = MSE(y_train,fifth_predict_train,squared = False)\n",
    "fifth_test_RMSE = MSE(y_test,fifth_predict_test, squared = False)\n",
    "\n",
    "fifth_condition_num = sm.OLS(y_train, sm.add_constant(X_train_fifth_model)).fit().condition_number\n",
    "\n",
    "print(f'Fifth Model Train score: {fifth_model_scores[\"train_score\"].mean()}')\n",
    "print(f'Fifth Model Train RMSE: {round(fifth_train_RMSE)}')\n",
    "print()\n",
    "print(f'Fifth Model Train Condition Number: {fifth_condition_num}')\n",
    "print()\n",
    "print(\"Fifth Model Test score: \", fifth_model_scores[\"test_score\"].mean())\n",
    "print(f'Fifth Model Test RMSE: {round(fifth_test_RMSE)}')"
   ]
  },
  {
   "cell_type": "markdown",
   "metadata": {},
   "source": [
    "### Model Six everything, including 'in_Seattle'"
   ]
  },
  {
   "cell_type": "code",
   "execution_count": 29,
   "metadata": {},
   "outputs": [
    {
     "name": "stdout",
     "output_type": "stream",
     "text": [
      "Sixth Model Train score: 0.6390870990507588\n",
      "Sixth Model Train RMSE: 198643.0\n",
      "\n",
      "Sixth Model Train Condition Number: 589215.1098343852\n",
      "\n",
      "Sixth Model Test score:  0.6397408704269453\n",
      "Sixth Model Test RMSE: 195282.0\n"
     ]
    }
   ],
   "source": [
    "X_train_sixth_model = X_train\n",
    "X_test_sixth_model = X_test\n",
    "\n",
    "splitter = ShuffleSplit(n_splits=3, test_size=0.25, random_state=420)\n",
    "\n",
    "sixth_model = LinearRegression()\n",
    "sixth_model.fit(X_train_sixth_model,y_train)\n",
    "\n",
    "sixth_model_scores = cross_validate(\n",
    "    estimator=simple_model,\n",
    "    X=X_with_in_sea.drop(columns = 'price'),\n",
    "    y=X_with_in_sea.price,\n",
    "    return_train_score=True,\n",
    "    cv=splitter\n",
    ")\n",
    "\n",
    "sixth_predict_train = sixth_model.predict(X_train_sixth_model)\n",
    "sixth_predict_test = sixth_model.predict(X_test_sixth_model)\n",
    "\n",
    "sixth_train_RMSE = MSE(y_train,sixth_predict_train,squared = False)\n",
    "sixth_test_RMSE = MSE(y_test,sixth_predict_test, squared = False)\n",
    "\n",
    "sixth_condition_num = sm.OLS(y_train, sm.add_constant(X_train_sixth_model)).fit().condition_number\n",
    "\n",
    "print(f'Sixth Model Train score: {sixth_model_scores[\"train_score\"].mean()}')\n",
    "print(f'Sixth Model Train RMSE: {round(sixth_train_RMSE)}')\n",
    "print()\n",
    "print(f'Sixth Model Train Condition Number: {sixth_condition_num}')\n",
    "print()\n",
    "print(\"Sixth Model Test score: \", sixth_model_scores[\"test_score\"].mean())\n",
    "print(f'Sixth Model Test RMSE: {round(sixth_test_RMSE)}')"
   ]
  },
  {
   "cell_type": "code",
   "execution_count": 30,
   "metadata": {},
   "outputs": [
    {
     "name": "stdout",
     "output_type": "stream",
     "text": [
      "sqft_living: 1\n",
      "sqft_lot: 2\n",
      "waterfront: 1\n",
      "view: 1\n",
      "sqft_above: 1\n",
      "sqft_basement: 1\n",
      "sqft_living15: 1\n",
      "sqft_lot15: 1\n",
      "bedrooms_cat: 1\n",
      "bathrooms_cat: 3\n",
      "floors_cat: 1\n",
      "grade_num_cat: 1\n",
      "in_Seattle: 1\n"
     ]
    }
   ],
   "source": [
    "X_train_for_RFECV = StandardScaler().fit_transform(X_train)\n",
    "model_for_RFECV = LinearRegression()\n",
    "\n",
    "# Instantiate and fit the selector\n",
    "selector = RFECV(model_for_RFECV, cv=splitter)\n",
    "selector.fit(X_train_for_RFECV, y_train)\n",
    "selector.ranking_\n",
    "for index, col in enumerate(X_train.columns):\n",
    "    print(f\"{col}: {selector.ranking_[index]}\")"
   ]
  },
  {
   "cell_type": "code",
   "execution_count": 31,
   "metadata": {},
   "outputs": [
    {
     "name": "stdout",
     "output_type": "stream",
     "text": [
      "Seventh Model Train score: 0.6390870990507588\n",
      "Seventh Model Train RMSE: 198754.0\n",
      "\n",
      "Seventh Model Train Condition Number: 589215.1098343852\n",
      "\n",
      "Seventh Model Test score:  0.6397408704269453\n",
      "Seventh Model Test RMSE: 195402.0\n"
     ]
    }
   ],
   "source": [
    "X_train_seventh_model = X_train[['bedrooms_cat','sqft_living','floors_cat','waterfront','view','sqft_living15','grade_num_cat','in_Seattle']]\n",
    "X_test_seventh_model = X_test[['bedrooms_cat','sqft_living','floors_cat','waterfront','view','sqft_living15','grade_num_cat','in_Seattle']]\n",
    "\n",
    "splitter = ShuffleSplit(n_splits=3, test_size=0.25, random_state=420)\n",
    "\n",
    "seventh_model = LinearRegression()\n",
    "seventh_model.fit(X_train_seventh_model,y_train)\n",
    "\n",
    "seventh_model_scores = cross_validate(\n",
    "    estimator=simple_model,\n",
    "    X=X_with_in_sea.drop(columns = 'price'),\n",
    "    y=X_with_in_sea.price,\n",
    "    return_train_score=True,\n",
    "    cv=splitter\n",
    ")\n",
    "\n",
    "seventh_predict_train = seventh_model.predict(X_train_seventh_model)\n",
    "seventh_predict_test = seventh_model.predict(X_test_seventh_model)\n",
    "\n",
    "seventh_train_RMSE = MSE(y_train,seventh_predict_train,squared = False)\n",
    "seventh_test_RMSE = MSE(y_test,seventh_predict_test, squared = False)\n",
    "\n",
    "seventh_condition_num = sm.OLS(y_train, sm.add_constant(X_train_seventh_model)).fit().condition_number\n",
    "\n",
    "print(f'Seventh Model Train score: {seventh_model_scores[\"train_score\"].mean()}')\n",
    "print(f'Seventh Model Train RMSE: {round(seventh_train_RMSE)}')\n",
    "print()\n",
    "print(f'Seventh Model Train Condition Number: {sixth_condition_num}')\n",
    "print()\n",
    "print(\"Seventh Model Test score: \", seventh_model_scores[\"test_score\"].mean())\n",
    "print(f'Seventh Model Test RMSE: {round(seventh_test_RMSE)}')"
   ]
  },
  {
   "cell_type": "code",
   "execution_count": 32,
   "metadata": {},
   "outputs": [
    {
     "data": {
      "text/html": [
       "<div>\n",
       "<style scoped>\n",
       "    .dataframe tbody tr th:only-of-type {\n",
       "        vertical-align: middle;\n",
       "    }\n",
       "\n",
       "    .dataframe tbody tr th {\n",
       "        vertical-align: top;\n",
       "    }\n",
       "\n",
       "    .dataframe thead th {\n",
       "        text-align: right;\n",
       "    }\n",
       "</style>\n",
       "<table border=\"1\" class=\"dataframe\">\n",
       "  <thead>\n",
       "    <tr style=\"text-align: right;\">\n",
       "      <th></th>\n",
       "      <th>bedrooms_cat</th>\n",
       "      <th>sqft_living</th>\n",
       "      <th>floors_cat</th>\n",
       "      <th>waterfront</th>\n",
       "      <th>view</th>\n",
       "      <th>sqft_living15</th>\n",
       "      <th>grade_num_cat</th>\n",
       "      <th>in_Seattle</th>\n",
       "    </tr>\n",
       "  </thead>\n",
       "  <tbody>\n",
       "    <tr>\n",
       "      <th>bedrooms_cat</th>\n",
       "      <td>1.000000</td>\n",
       "      <td>0.588273</td>\n",
       "      <td>0.163120</td>\n",
       "      <td>-0.017060</td>\n",
       "      <td>0.064904</td>\n",
       "      <td>0.449633</td>\n",
       "      <td>0.365378</td>\n",
       "      <td>-0.213318</td>\n",
       "    </tr>\n",
       "    <tr>\n",
       "      <th>sqft_living</th>\n",
       "      <td>0.588273</td>\n",
       "      <td>1.000000</td>\n",
       "      <td>0.337134</td>\n",
       "      <td>0.079858</td>\n",
       "      <td>0.254346</td>\n",
       "      <td>0.838388</td>\n",
       "      <td>0.766614</td>\n",
       "      <td>-0.256702</td>\n",
       "    </tr>\n",
       "    <tr>\n",
       "      <th>floors_cat</th>\n",
       "      <td>0.163120</td>\n",
       "      <td>0.337134</td>\n",
       "      <td>1.000000</td>\n",
       "      <td>0.015547</td>\n",
       "      <td>0.009997</td>\n",
       "      <td>0.288608</td>\n",
       "      <td>0.449407</td>\n",
       "      <td>0.010841</td>\n",
       "    </tr>\n",
       "    <tr>\n",
       "      <th>waterfront</th>\n",
       "      <td>-0.017060</td>\n",
       "      <td>0.079858</td>\n",
       "      <td>0.015547</td>\n",
       "      <td>1.000000</td>\n",
       "      <td>0.413081</td>\n",
       "      <td>0.074152</td>\n",
       "      <td>0.067668</td>\n",
       "      <td>-0.009414</td>\n",
       "    </tr>\n",
       "    <tr>\n",
       "      <th>view</th>\n",
       "      <td>0.064904</td>\n",
       "      <td>0.254346</td>\n",
       "      <td>0.009997</td>\n",
       "      <td>0.413081</td>\n",
       "      <td>1.000000</td>\n",
       "      <td>0.261552</td>\n",
       "      <td>0.224169</td>\n",
       "      <td>0.071840</td>\n",
       "    </tr>\n",
       "    <tr>\n",
       "      <th>sqft_living15</th>\n",
       "      <td>0.449633</td>\n",
       "      <td>0.838388</td>\n",
       "      <td>0.288608</td>\n",
       "      <td>0.074152</td>\n",
       "      <td>0.261552</td>\n",
       "      <td>1.000000</td>\n",
       "      <td>0.752475</td>\n",
       "      <td>-0.318545</td>\n",
       "    </tr>\n",
       "    <tr>\n",
       "      <th>grade_num_cat</th>\n",
       "      <td>0.365378</td>\n",
       "      <td>0.766614</td>\n",
       "      <td>0.449407</td>\n",
       "      <td>0.067668</td>\n",
       "      <td>0.224169</td>\n",
       "      <td>0.752475</td>\n",
       "      <td>1.000000</td>\n",
       "      <td>-0.174945</td>\n",
       "    </tr>\n",
       "    <tr>\n",
       "      <th>in_Seattle</th>\n",
       "      <td>-0.213318</td>\n",
       "      <td>-0.256702</td>\n",
       "      <td>0.010841</td>\n",
       "      <td>-0.009414</td>\n",
       "      <td>0.071840</td>\n",
       "      <td>-0.318545</td>\n",
       "      <td>-0.174945</td>\n",
       "      <td>1.000000</td>\n",
       "    </tr>\n",
       "  </tbody>\n",
       "</table>\n",
       "</div>"
      ],
      "text/plain": [
       "               bedrooms_cat  sqft_living  floors_cat  waterfront      view  \\\n",
       "bedrooms_cat       1.000000     0.588273    0.163120   -0.017060  0.064904   \n",
       "sqft_living        0.588273     1.000000    0.337134    0.079858  0.254346   \n",
       "floors_cat         0.163120     0.337134    1.000000    0.015547  0.009997   \n",
       "waterfront        -0.017060     0.079858    0.015547    1.000000  0.413081   \n",
       "view               0.064904     0.254346    0.009997    0.413081  1.000000   \n",
       "sqft_living15      0.449633     0.838388    0.288608    0.074152  0.261552   \n",
       "grade_num_cat      0.365378     0.766614    0.449407    0.067668  0.224169   \n",
       "in_Seattle        -0.213318    -0.256702    0.010841   -0.009414  0.071840   \n",
       "\n",
       "               sqft_living15  grade_num_cat  in_Seattle  \n",
       "bedrooms_cat        0.449633       0.365378   -0.213318  \n",
       "sqft_living         0.838388       0.766614   -0.256702  \n",
       "floors_cat          0.288608       0.449407    0.010841  \n",
       "waterfront          0.074152       0.067668   -0.009414  \n",
       "view                0.261552       0.224169    0.071840  \n",
       "sqft_living15       1.000000       0.752475   -0.318545  \n",
       "grade_num_cat       0.752475       1.000000   -0.174945  \n",
       "in_Seattle         -0.318545      -0.174945    1.000000  "
      ]
     },
     "execution_count": 32,
     "metadata": {},
     "output_type": "execute_result"
    }
   ],
   "source": [
    "X_train_seventh_model.corr()"
   ]
  },
  {
   "cell_type": "code",
   "execution_count": 33,
   "metadata": {},
   "outputs": [
    {
     "name": "stdout",
     "output_type": "stream",
     "text": [
      "Eighth Model Train score: 0.5620616699720827\n",
      "Eighth Model Train RMSE: 218948.0\n",
      "\n",
      "Eighth Model Train Condition Number: 64.9900030716037\n",
      "\n",
      "Eighth Model Test score:  0.5600282183053027\n",
      "Eighth Model Test RMSE: 215447.0\n"
     ]
    }
   ],
   "source": [
    "X_train_eighth_model = X_train[['bedrooms_cat','floors_cat','waterfront','view','grade_num_cat','in_Seattle']]\n",
    "X_test_eighth_model = X_test[['bedrooms_cat','floors_cat','waterfront','view','grade_num_cat','in_Seattle']]\n",
    "\n",
    "splitter = ShuffleSplit(n_splits=3, test_size=0.25, random_state=420)\n",
    "\n",
    "eighth_model = LinearRegression()\n",
    "eighth_model.fit(X_train_eighth_model,y_train)\n",
    "\n",
    "eighth_model_scores = cross_validate(\n",
    "    estimator=simple_model,\n",
    "    X=X_with_in_sea[['bedrooms_cat','floors_cat','waterfront','view','grade_num_cat','in_Seattle']],\n",
    "    y=X_with_in_sea.price,\n",
    "    return_train_score=True,\n",
    "    cv=splitter\n",
    ")\n",
    "\n",
    "eighth_predict_train = eighth_model.predict(X_train_eighth_model)\n",
    "eighth_predict_test = eighth_model.predict(X_test_eighth_model)\n",
    "\n",
    "eighth_train_RMSE = MSE(y_train,eighth_predict_train,squared = False)\n",
    "eighth_test_RMSE = MSE(y_test,eighth_predict_test, squared = False)\n",
    "\n",
    "eighth_condition_num = sm.OLS(y_train, sm.add_constant(X_train_eighth_model)).fit().condition_number\n",
    "\n",
    "print(f'Eighth Model Train score: {eighth_model_scores[\"train_score\"].mean()}')\n",
    "print(f'Eighth Model Train RMSE: {round(eighth_train_RMSE)}')\n",
    "print()\n",
    "print(f'Eighth Model Train Condition Number: {eighth_condition_num}')\n",
    "print()\n",
    "print(\"Eighth Model Test score: \", eighth_model_scores[\"test_score\"].mean())\n",
    "print(f'Eighth Model Test RMSE: {round(eighth_test_RMSE)}')"
   ]
  },
  {
   "cell_type": "code",
   "execution_count": 34,
   "metadata": {},
   "outputs": [
    {
     "name": "stdout",
     "output_type": "stream",
     "text": [
      "bedrooms_cat: 1\n",
      "floors_cat: 1\n",
      "waterfront: 1\n",
      "view: 1\n",
      "grade_num_cat: 1\n",
      "in_Seattle: 1\n"
     ]
    }
   ],
   "source": [
    "X_train_for_RFECV = StandardScaler().fit_transform(X_train_eighth_model)\n",
    "model_for_RFECV = LinearRegression()\n",
    "\n",
    "# Instantiate and fit the selector\n",
    "selector = RFECV(model_for_RFECV, cv=splitter)\n",
    "selector.fit(X_train_for_RFECV, y_train)\n",
    "selector.ranking_\n",
    "for index, col in enumerate(X_train_eighth_model.columns):\n",
    "    print(f\"{col}: {selector.ranking_[index]}\")"
   ]
  },
  {
   "cell_type": "code",
   "execution_count": 35,
   "metadata": {},
   "outputs": [
    {
     "name": "stdout",
     "output_type": "stream",
     "text": [
      "                Coefficients\n",
      "bedrooms_cat    42520.314097\n",
      "floors_cat     -22720.359516\n",
      "waterfront     529733.421212\n",
      "view            85930.752685\n",
      "grade_num_cat  188069.319191\n",
      "in_Seattle     130107.331040\n",
      "Intercept     -299515.0\n"
     ]
    }
   ],
   "source": [
    "sm.OLS(y_train, sm.add_constant(X_train_eighth_model)).fit().summary()\n",
    "\n",
    "final_model = eighth_model.fit(X_train_eighth_model,y_train)\n",
    "coefficients = pd.DataFrame(final_model.coef_,X_train_eighth_model.columns, columns=['Coefficients'])\n",
    "print(coefficients)\n",
    "print(f'Intercept     {round(final_model.intercept_)}')"
   ]
  },
  {
   "cell_type": "code",
   "execution_count": 36,
   "metadata": {},
   "outputs": [
    {
     "data": {
      "image/png": "[encoded data removed]",
      "text/plain": [
       "<Figure size 864x576 with 1 Axes>"
      ]
     },
     "metadata": {
      "needs_background": "light"
     },
     "output_type": "display_data"
    }
   ],
   "source": [
    "X_with_in_sea['price_per_sqft'] = X_with_in_sea['price'].div(X_with_in_sea['sqft_living'])\n",
    "\n",
    "fig, ax = plt.subplots(figsize = (12,8))\n",
    "sns.histplot(ax=ax, data = X_with_in_sea, x = 'price_per_sqft', hue = 'in_Seattle', binwidth = 20, alpha = .5)\n",
    "ax.set_xlabel('Price per Square Foot')\n",
    "ax.set_ylabel('Number of Homes')\n",
    "ax.set_title('Price of Housing in King County')\n",
    "ax.legend(['In Seattle','Outside Seattle']);"
   ]
  },
  {
   "cell_type": "code",
   "execution_count": 37,
   "metadata": {},
   "outputs": [
    {
     "data": {
      "image/png": "[encoded data removed]",
      "text/plain": [
       "<Figure size 432x288 with 1 Axes>"
      ]
     },
     "metadata": {
      "needs_background": "light"
     },
     "output_type": "display_data"
    }
   ],
   "source": [
    "sns.residplot(x=eighth_predict_test, y = y_test, robust = True);"
   ]
  },
  {
   "cell_type": "code",
   "execution_count": 38,
   "metadata": {},
   "outputs": [
    {
     "data": {
      "image/png": "[encoded data removed]",
      "text/plain": [
       "<Figure size 864x864 with 1 Axes>"
      ]
     },
     "metadata": {
      "needs_background": "light"
     },
     "output_type": "display_data"
    }
   ],
   "source": [
    "fig, ax = plt.subplots(figsize = (12,12))\n",
    "ax = sns.barplot(data = X_with_in_sea, x = 'grade_num_cat', y= 'price', hue = 'in_Seattle', ci = 0)\n",
    "ax.set_title('How House Quality Affects Price in King County, WA', fontsize = 'xx-large')\n",
    "ax.set_xlabel('House Quality', fontsize = 'x-large')\n",
    "ax.set_ylabel('Price', fontsize = 'x-large')\n",
    "ax.set_xticklabels(['Low','Fair','Low Average', 'Average', 'Good', 'Better', 'Very Good','Excellent', 'Luxury', 'Mansion'],\n",
    "                  rotation = 45, horizontalalignment = 'right', fontsize = 'x-large');"
   ]
  },
  {
   "cell_type": "code",
   "execution_count": null,
   "metadata": {},
   "outputs": [],
   "source": []
  },
  {
   "cell_type": "code",
   "execution_count": null,
   "metadata": {},
   "outputs": [],
   "source": []
  }
 ],
 "metadata": {
  "kernelspec": {
   "display_name": "Python (learn-env)",
   "language": "python",
   "name": "learn-env"
  },
  "language_info": {
   "codemirror_mode": {
    "name": "ipython",
    "version": 3
   },
   "file_extension": ".py",
   "mimetype": "text/x-python",
   "name": "python",
   "nbconvert_exporter": "python",
   "pygments_lexer": "ipython3",
   "version": "3.8.5"
  }
 },
 "nbformat": 4,
 "nbformat_minor": 4
}
